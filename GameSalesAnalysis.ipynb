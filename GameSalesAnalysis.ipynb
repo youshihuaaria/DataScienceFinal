{
 "cells": [
  {
   "cell_type": "markdown",
   "metadata": {},
   "source": [
    "# Video Game Sales"
   ]
  },
  {
   "cell_type": "markdown",
   "metadata": {},
   "source": [
    "## Intro"
   ]
  },
  {
   "cell_type": "markdown",
   "metadata": {},
   "source": [
    "In this special hard time of pandemic, playing games is one of the most popular choices during quarantine. With the development of technology, the gaming industry is growing prosperously. There are a lot of professional contests for gamers and gaming has even been introduced into Olympic, which shows its importance. More and more games have been published in recent years and the gaming market seems to come close to a saturation. We would like to see if there is still some potential in developing the gaming market. We wonder, then, how is the sales of the games this year, and what factor will influence it.\n",
    "\n",
    "This tutorial will explore the sales of video games, and its relation to genre, platform, released days and publisher.\n",
    "\n",
    "Please use the table of contents below for your convenience.\n",
    "* [Data Collection and Manipulation](#chapter1)\n",
    "* [Data Visualization](#chapter2)\n",
    "    * [Number of games in Top 200 Best-Seller released by each publisher](#section_1_1)\n",
    "    * [Total sales of each publisher](#section_1_2)\n",
    "    * [Sales of each publisher by region](#section_1_3)\n",
    "    * [Total sales by region](#section_1_4)\n",
    "    * [Released days with total sales for each region](#section_1_5)\n",
    "    * [Sales of games by release year](#section_1_6)\n",
    "    * [Number of games released by year](#section_1_7)\n",
    "    * [Genre and Sales](#section_1_8)\n",
    "    * [Platform and Sales](#section_1_9)\n",
    "* [Data Analysis](#chapter3)\n",
    "    * [Linear Regression](#section_2_2)\n",
    "    * [Quadratic (Polynomial) Regression](#section_2_3)\n",
    "    * [Stochastic Gradient Descent](#section_2_4)\n",
    "    * [OLS Regression](#section_2_1)\n",
    "* [Conclusion](#chapter4)\n",
    "* [Other link](#chapter5)"
   ]
  },
  {
   "cell_type": "markdown",
   "metadata": {},
   "source": [
    "Author: Yiying Tao & Shihua You"
   ]
  },
  {
   "cell_type": "markdown",
   "metadata": {},
   "source": [
    "## Data Collection and Manipulation  <a class=\"anchor\" id=\"chapter1\"></a>"
   ]
  },
  {
   "cell_type": "markdown",
   "metadata": {},
   "source": [
    "Data Source: <br>\n",
    "We have scraped some data of top selling video games (as of 2020/12) from http://www.vgchartz.com/gamedb/. Since this tutorial will focus on analyzing the data rather than scraping the data from the website, we used a Chrome Extension called Instant Data Scraper (https://chrome.google.com/webstore/detail/instant-data-scraper/ofaokhiedipichpaobibbnahnkdoiiah?hl=en-US) to help us scrape the data from the website. <br>\n",
    "<br>\n",
    "The fields include the following: <br>\n",
    "Index - Ranking of overall sales; <br>\n",
    "Game - Name of the game; <br>\n",
    "Publisher - Publisher of the game; <br>\n",
    "TotalSales - Sales in worldwide (in millions); <br>\n",
    "NASales - Sales in North America (in millions); <br>\n",
    "PALSales - Sales in Phase Alternating Line Regions, which covers most of Asia, Africa, Europe, South America and Oceania (in millions); <br>\n",
    "JPSales - Sales in Japan (in millions); <br>\n",
    "OtherSales - Sales in the rest of the world (in millions); <br>\n",
    "ReleaseDate - The date when the game was firstly published; <br>\n",
    "LinkToPage - The link to information page for each game;<br>\n",
    "DaysReleased - The length of time from the game was firstly published to today;\n",
    "Platform - The computer system specially made for playing video games;\n",
    "Genre - The type of the game;\n",
    "Year - The year that the game is released."
   ]
  },
  {
   "cell_type": "code",
   "execution_count": 1,
   "metadata": {},
   "outputs": [],
   "source": [
    "import re\n",
    "import requests\n",
    "import pandas as pd\n",
    "import numpy as np\n",
    "import statsmodels.api as sm\n",
    "import statsmodels.formula.api as smf\n",
    "import seaborn as sbn\n",
    "import matplotlib.pyplot as plt\n",
    "import warnings\n",
    "warnings.filterwarnings('ignore')\n",
    "\n",
    "from sklearn import linear_model\n",
    "from sklearn.model_selection import train_test_split\n",
    "from sklearn.linear_model import LinearRegression\n",
    "from sklearn.preprocessing import LabelEncoder\n",
    "from sklearn.metrics import mean_squared_error\n",
    "from sklearn.metrics import mean_absolute_error\n",
    "from sklearn.metrics import r2_score\n",
    "from sklearn.model_selection import cross_val_score\n",
    "from sklearn.preprocessing import StandardScaler\n",
    "from sklearn.preprocessing import PolynomialFeatures\n",
    "from sklearn.linear_model import SGDRegressor"
   ]
  },
  {
   "cell_type": "code",
   "execution_count": 2,
   "metadata": {},
   "outputs": [
    {
     "data": {
      "text/html": [
       "<div>\n",
       "<style scoped>\n",
       "    .dataframe tbody tr th:only-of-type {\n",
       "        vertical-align: middle;\n",
       "    }\n",
       "\n",
       "    .dataframe tbody tr th {\n",
       "        vertical-align: top;\n",
       "    }\n",
       "\n",
       "    .dataframe thead th {\n",
       "        text-align: right;\n",
       "    }\n",
       "</style>\n",
       "<table border=\"1\" class=\"dataframe\">\n",
       "  <thead>\n",
       "    <tr style=\"text-align: right;\">\n",
       "      <th></th>\n",
       "      <th>Game</th>\n",
       "      <th>Publisher</th>\n",
       "      <th>TotalSales</th>\n",
       "      <th>NASales</th>\n",
       "      <th>PALSales</th>\n",
       "      <th>JPSales</th>\n",
       "      <th>OtherSales</th>\n",
       "      <th>ReleaseDate</th>\n",
       "      <th>LinkToPage</th>\n",
       "      <th>DaysReleased</th>\n",
       "    </tr>\n",
       "  </thead>\n",
       "  <tbody>\n",
       "    <tr>\n",
       "      <th>1</th>\n",
       "      <td>Wii Sports</td>\n",
       "      <td>Nintendo</td>\n",
       "      <td>82.65</td>\n",
       "      <td>41.36</td>\n",
       "      <td>29.02</td>\n",
       "      <td>3.77</td>\n",
       "      <td>8.51</td>\n",
       "      <td>2006-11-19</td>\n",
       "      <td>https://www.vgchartz.com/games/game.php?id=266...</td>\n",
       "      <td>5146.0</td>\n",
       "    </tr>\n",
       "    <tr>\n",
       "      <th>2</th>\n",
       "      <td>Super Mario Bros.</td>\n",
       "      <td>Nintendo</td>\n",
       "      <td>40.24</td>\n",
       "      <td>29.08</td>\n",
       "      <td>3.58</td>\n",
       "      <td>6.81</td>\n",
       "      <td>0.77</td>\n",
       "      <td>1985-10-18</td>\n",
       "      <td>https://www.vgchartz.com/games/game.php?id=645...</td>\n",
       "      <td>12848.0</td>\n",
       "    </tr>\n",
       "    <tr>\n",
       "      <th>3</th>\n",
       "      <td>Mario Kart Wii</td>\n",
       "      <td>Nintendo</td>\n",
       "      <td>35.98</td>\n",
       "      <td>15.91</td>\n",
       "      <td>12.92</td>\n",
       "      <td>3.80</td>\n",
       "      <td>3.35</td>\n",
       "      <td>2008-04-27</td>\n",
       "      <td>https://www.vgchartz.com/games/game.php?id=696...</td>\n",
       "      <td>4621.0</td>\n",
       "    </tr>\n",
       "    <tr>\n",
       "      <th>4</th>\n",
       "      <td>Wii Sports Resort</td>\n",
       "      <td>Nintendo</td>\n",
       "      <td>32.90</td>\n",
       "      <td>15.61</td>\n",
       "      <td>10.99</td>\n",
       "      <td>3.29</td>\n",
       "      <td>3.02</td>\n",
       "      <td>2009-07-26</td>\n",
       "      <td>https://www.vgchartz.com/games/game.php?id=246...</td>\n",
       "      <td>4166.0</td>\n",
       "    </tr>\n",
       "    <tr>\n",
       "      <th>5</th>\n",
       "      <td>Pokémon Red / Green / Blue Version</td>\n",
       "      <td>Nintendo</td>\n",
       "      <td>31.37</td>\n",
       "      <td>11.27</td>\n",
       "      <td>8.89</td>\n",
       "      <td>10.22</td>\n",
       "      <td>1.00</td>\n",
       "      <td>1998-09-30</td>\n",
       "      <td>https://www.vgchartz.com/games/game.php?id=403...</td>\n",
       "      <td>8118.0</td>\n",
       "    </tr>\n",
       "    <tr>\n",
       "      <th>...</th>\n",
       "      <td>...</td>\n",
       "      <td>...</td>\n",
       "      <td>...</td>\n",
       "      <td>...</td>\n",
       "      <td>...</td>\n",
       "      <td>...</td>\n",
       "      <td>...</td>\n",
       "      <td>...</td>\n",
       "      <td>...</td>\n",
       "      <td>...</td>\n",
       "    </tr>\n",
       "    <tr>\n",
       "      <th>1996</th>\n",
       "      <td>Red Dead Redemption: Undead Nightmare</td>\n",
       "      <td>Rockstar Games</td>\n",
       "      <td>1.11</td>\n",
       "      <td>0.61</td>\n",
       "      <td>0.38</td>\n",
       "      <td>0.02</td>\n",
       "      <td>0.10</td>\n",
       "      <td>2010-11-23</td>\n",
       "      <td>https://www.vgchartz.com/games/game.php?id=482...</td>\n",
       "      <td>3681.0</td>\n",
       "    </tr>\n",
       "    <tr>\n",
       "      <th>1997</th>\n",
       "      <td>Metal Gear Solid HD Collection</td>\n",
       "      <td>Konami Digital Entertainment</td>\n",
       "      <td>1.11</td>\n",
       "      <td>0.52</td>\n",
       "      <td>0.44</td>\n",
       "      <td>NaN</td>\n",
       "      <td>0.14</td>\n",
       "      <td>2011-11-08</td>\n",
       "      <td>https://www.vgchartz.com/games/game.php?id=705...</td>\n",
       "      <td>3331.0</td>\n",
       "    </tr>\n",
       "    <tr>\n",
       "      <th>1998</th>\n",
       "      <td>EA Sports UFC</td>\n",
       "      <td>Electronic Arts</td>\n",
       "      <td>1.11</td>\n",
       "      <td>0.49</td>\n",
       "      <td>0.43</td>\n",
       "      <td>0.01</td>\n",
       "      <td>0.18</td>\n",
       "      <td>2014-06-17</td>\n",
       "      <td>https://www.vgchartz.com/games/game.php?id=731...</td>\n",
       "      <td>2379.0</td>\n",
       "    </tr>\n",
       "    <tr>\n",
       "      <th>1999</th>\n",
       "      <td>NCAA Football 13</td>\n",
       "      <td>EA Sports</td>\n",
       "      <td>1.11</td>\n",
       "      <td>1.02</td>\n",
       "      <td>NaN</td>\n",
       "      <td>NaN</td>\n",
       "      <td>0.09</td>\n",
       "      <td>2012-07-10</td>\n",
       "      <td>https://www.vgchartz.com/games/game.php?id=703...</td>\n",
       "      <td>3086.0</td>\n",
       "    </tr>\n",
       "    <tr>\n",
       "      <th>2000</th>\n",
       "      <td>Lumines: Puzzle Fusion</td>\n",
       "      <td>Ubisoft</td>\n",
       "      <td>1.11</td>\n",
       "      <td>0.52</td>\n",
       "      <td>0.35</td>\n",
       "      <td>NaN</td>\n",
       "      <td>0.23</td>\n",
       "      <td>2005-03-22</td>\n",
       "      <td>https://www.vgchartz.com/games/game.php?id=120...</td>\n",
       "      <td>5753.0</td>\n",
       "    </tr>\n",
       "  </tbody>\n",
       "</table>\n",
       "<p>2000 rows × 10 columns</p>\n",
       "</div>"
      ],
      "text/plain": [
       "                                       Game                     Publisher  \\\n",
       "1                                Wii Sports                      Nintendo   \n",
       "2                         Super Mario Bros.                      Nintendo   \n",
       "3                            Mario Kart Wii                      Nintendo   \n",
       "4                         Wii Sports Resort                      Nintendo   \n",
       "5        Pokémon Red / Green / Blue Version                      Nintendo   \n",
       "...                                     ...                           ...   \n",
       "1996  Red Dead Redemption: Undead Nightmare                Rockstar Games   \n",
       "1997         Metal Gear Solid HD Collection  Konami Digital Entertainment   \n",
       "1998                          EA Sports UFC               Electronic Arts   \n",
       "1999                       NCAA Football 13                     EA Sports   \n",
       "2000                 Lumines: Puzzle Fusion                       Ubisoft   \n",
       "\n",
       "      TotalSales  NASales  PALSales  JPSales  OtherSales ReleaseDate  \\\n",
       "1          82.65    41.36     29.02     3.77        8.51  2006-11-19   \n",
       "2          40.24    29.08      3.58     6.81        0.77  1985-10-18   \n",
       "3          35.98    15.91     12.92     3.80        3.35  2008-04-27   \n",
       "4          32.90    15.61     10.99     3.29        3.02  2009-07-26   \n",
       "5          31.37    11.27      8.89    10.22        1.00  1998-09-30   \n",
       "...          ...      ...       ...      ...         ...         ...   \n",
       "1996        1.11     0.61      0.38     0.02        0.10  2010-11-23   \n",
       "1997        1.11     0.52      0.44      NaN        0.14  2011-11-08   \n",
       "1998        1.11     0.49      0.43     0.01        0.18  2014-06-17   \n",
       "1999        1.11     1.02       NaN      NaN        0.09  2012-07-10   \n",
       "2000        1.11     0.52      0.35      NaN        0.23  2005-03-22   \n",
       "\n",
       "                                             LinkToPage  DaysReleased  \n",
       "1     https://www.vgchartz.com/games/game.php?id=266...        5146.0  \n",
       "2     https://www.vgchartz.com/games/game.php?id=645...       12848.0  \n",
       "3     https://www.vgchartz.com/games/game.php?id=696...        4621.0  \n",
       "4     https://www.vgchartz.com/games/game.php?id=246...        4166.0  \n",
       "5     https://www.vgchartz.com/games/game.php?id=403...        8118.0  \n",
       "...                                                 ...           ...  \n",
       "1996  https://www.vgchartz.com/games/game.php?id=482...        3681.0  \n",
       "1997  https://www.vgchartz.com/games/game.php?id=705...        3331.0  \n",
       "1998  https://www.vgchartz.com/games/game.php?id=731...        2379.0  \n",
       "1999  https://www.vgchartz.com/games/game.php?id=703...        3086.0  \n",
       "2000  https://www.vgchartz.com/games/game.php?id=120...        5753.0  \n",
       "\n",
       "[2000 rows x 10 columns]"
      ]
     },
     "execution_count": 2,
     "metadata": {},
     "output_type": "execute_result"
    }
   ],
   "source": [
    "df = pd.read_csv('./gameSalesByRegion.csv')\n",
    "\n",
    "df['ReleaseDate'] = pd.to_datetime(df['ReleaseDate'])\n",
    "df['DaysReleased'] = pd.to_datetime('today') - df['ReleaseDate']\n",
    "df[\"DaysReleased\"] = df[\"DaysReleased\"].dt.days\n",
    "\n",
    "# Remove m (millions) and converting str to float for sales data for easier plotting purposes\n",
    "df.TotalSales = df.TotalSales.str.replace('m', '')\n",
    "df.NASales = df.NASales.str.replace('m', '')\n",
    "df.PALSales = df.PALSales.str.replace('m', '')\n",
    "df.JPSales = df.JPSales.str.replace('m', '')\n",
    "df.OtherSales = df.OtherSales.str.replace('m', '')\n",
    "\n",
    "df['TotalSales'] = df['TotalSales'].astype(float)\n",
    "df['NASales'] = df['NASales'].astype(float)\n",
    "df['PALSales'] = df['PALSales'].astype(float)\n",
    "df['JPSales'] = df['JPSales'].astype(float)\n",
    "df['OtherSales'] = df['OtherSales'].astype(float)\n",
    "\n",
    "df.index += 1\n",
    "\n",
    "df"
   ]
  },
  {
   "cell_type": "code",
   "execution_count": 3,
   "metadata": {},
   "outputs": [
    {
     "data": {
      "text/html": [
       "<div>\n",
       "<style scoped>\n",
       "    .dataframe tbody tr th:only-of-type {\n",
       "        vertical-align: middle;\n",
       "    }\n",
       "\n",
       "    .dataframe tbody tr th {\n",
       "        vertical-align: top;\n",
       "    }\n",
       "\n",
       "    .dataframe thead th {\n",
       "        text-align: right;\n",
       "    }\n",
       "</style>\n",
       "<table border=\"1\" class=\"dataframe\">\n",
       "  <thead>\n",
       "    <tr style=\"text-align: right;\">\n",
       "      <th></th>\n",
       "      <th>Game</th>\n",
       "      <th>Publisher</th>\n",
       "      <th>TotalSales</th>\n",
       "      <th>NASales</th>\n",
       "      <th>PALSales</th>\n",
       "      <th>JPSales</th>\n",
       "      <th>OtherSales</th>\n",
       "      <th>ReleaseDate</th>\n",
       "      <th>LinkToPage</th>\n",
       "      <th>DaysReleased</th>\n",
       "    </tr>\n",
       "  </thead>\n",
       "  <tbody>\n",
       "    <tr>\n",
       "      <th>1</th>\n",
       "      <td>Wii Sports</td>\n",
       "      <td>Nintendo</td>\n",
       "      <td>82.65</td>\n",
       "      <td>41.36</td>\n",
       "      <td>29.02</td>\n",
       "      <td>3.77</td>\n",
       "      <td>8.51</td>\n",
       "      <td>2006-11-19</td>\n",
       "      <td>https://www.vgchartz.com/games/game.php?id=266...</td>\n",
       "      <td>5146.0</td>\n",
       "    </tr>\n",
       "    <tr>\n",
       "      <th>2</th>\n",
       "      <td>Super Mario Bros.</td>\n",
       "      <td>Nintendo</td>\n",
       "      <td>40.24</td>\n",
       "      <td>29.08</td>\n",
       "      <td>3.58</td>\n",
       "      <td>6.81</td>\n",
       "      <td>0.77</td>\n",
       "      <td>1985-10-18</td>\n",
       "      <td>https://www.vgchartz.com/games/game.php?id=645...</td>\n",
       "      <td>12848.0</td>\n",
       "    </tr>\n",
       "    <tr>\n",
       "      <th>3</th>\n",
       "      <td>Mario Kart Wii</td>\n",
       "      <td>Nintendo</td>\n",
       "      <td>35.98</td>\n",
       "      <td>15.91</td>\n",
       "      <td>12.92</td>\n",
       "      <td>3.80</td>\n",
       "      <td>3.35</td>\n",
       "      <td>2008-04-27</td>\n",
       "      <td>https://www.vgchartz.com/games/game.php?id=696...</td>\n",
       "      <td>4621.0</td>\n",
       "    </tr>\n",
       "    <tr>\n",
       "      <th>4</th>\n",
       "      <td>Wii Sports Resort</td>\n",
       "      <td>Nintendo</td>\n",
       "      <td>32.90</td>\n",
       "      <td>15.61</td>\n",
       "      <td>10.99</td>\n",
       "      <td>3.29</td>\n",
       "      <td>3.02</td>\n",
       "      <td>2009-07-26</td>\n",
       "      <td>https://www.vgchartz.com/games/game.php?id=246...</td>\n",
       "      <td>4166.0</td>\n",
       "    </tr>\n",
       "    <tr>\n",
       "      <th>5</th>\n",
       "      <td>Pokémon Red / Green / Blue Version</td>\n",
       "      <td>Nintendo</td>\n",
       "      <td>31.37</td>\n",
       "      <td>11.27</td>\n",
       "      <td>8.89</td>\n",
       "      <td>10.22</td>\n",
       "      <td>1.00</td>\n",
       "      <td>1998-09-30</td>\n",
       "      <td>https://www.vgchartz.com/games/game.php?id=403...</td>\n",
       "      <td>8118.0</td>\n",
       "    </tr>\n",
       "    <tr>\n",
       "      <th>...</th>\n",
       "      <td>...</td>\n",
       "      <td>...</td>\n",
       "      <td>...</td>\n",
       "      <td>...</td>\n",
       "      <td>...</td>\n",
       "      <td>...</td>\n",
       "      <td>...</td>\n",
       "      <td>...</td>\n",
       "      <td>...</td>\n",
       "      <td>...</td>\n",
       "    </tr>\n",
       "    <tr>\n",
       "      <th>1987</th>\n",
       "      <td>Castlevania: Lords of Shadow</td>\n",
       "      <td>Konami</td>\n",
       "      <td>1.11</td>\n",
       "      <td>0.50</td>\n",
       "      <td>0.37</td>\n",
       "      <td>0.10</td>\n",
       "      <td>0.15</td>\n",
       "      <td>2010-10-05</td>\n",
       "      <td>https://www.vgchartz.com/games/game.php?id=350...</td>\n",
       "      <td>3730.0</td>\n",
       "    </tr>\n",
       "    <tr>\n",
       "      <th>1992</th>\n",
       "      <td>Donkey Kong Jr.</td>\n",
       "      <td>Nintendo</td>\n",
       "      <td>1.11</td>\n",
       "      <td>0.33</td>\n",
       "      <td>0.07</td>\n",
       "      <td>0.70</td>\n",
       "      <td>0.01</td>\n",
       "      <td>1986-06-01</td>\n",
       "      <td>https://www.vgchartz.com/games/game.php?id=623...</td>\n",
       "      <td>12622.0</td>\n",
       "    </tr>\n",
       "    <tr>\n",
       "      <th>1994</th>\n",
       "      <td>Legend of Mana</td>\n",
       "      <td>Square</td>\n",
       "      <td>1.11</td>\n",
       "      <td>0.18</td>\n",
       "      <td>0.13</td>\n",
       "      <td>0.73</td>\n",
       "      <td>0.07</td>\n",
       "      <td>2000-06-07</td>\n",
       "      <td>https://www.vgchartz.com/games/game.php?id=427...</td>\n",
       "      <td>7502.0</td>\n",
       "    </tr>\n",
       "    <tr>\n",
       "      <th>1996</th>\n",
       "      <td>Red Dead Redemption: Undead Nightmare</td>\n",
       "      <td>Rockstar Games</td>\n",
       "      <td>1.11</td>\n",
       "      <td>0.61</td>\n",
       "      <td>0.38</td>\n",
       "      <td>0.02</td>\n",
       "      <td>0.10</td>\n",
       "      <td>2010-11-23</td>\n",
       "      <td>https://www.vgchartz.com/games/game.php?id=482...</td>\n",
       "      <td>3681.0</td>\n",
       "    </tr>\n",
       "    <tr>\n",
       "      <th>1998</th>\n",
       "      <td>EA Sports UFC</td>\n",
       "      <td>Electronic Arts</td>\n",
       "      <td>1.11</td>\n",
       "      <td>0.49</td>\n",
       "      <td>0.43</td>\n",
       "      <td>0.01</td>\n",
       "      <td>0.18</td>\n",
       "      <td>2014-06-17</td>\n",
       "      <td>https://www.vgchartz.com/games/game.php?id=731...</td>\n",
       "      <td>2379.0</td>\n",
       "    </tr>\n",
       "  </tbody>\n",
       "</table>\n",
       "<p>1228 rows × 10 columns</p>\n",
       "</div>"
      ],
      "text/plain": [
       "                                       Game        Publisher  TotalSales  \\\n",
       "1                                Wii Sports         Nintendo       82.65   \n",
       "2                         Super Mario Bros.         Nintendo       40.24   \n",
       "3                            Mario Kart Wii         Nintendo       35.98   \n",
       "4                         Wii Sports Resort         Nintendo       32.90   \n",
       "5        Pokémon Red / Green / Blue Version         Nintendo       31.37   \n",
       "...                                     ...              ...         ...   \n",
       "1987           Castlevania: Lords of Shadow           Konami        1.11   \n",
       "1992                        Donkey Kong Jr.         Nintendo        1.11   \n",
       "1994                         Legend of Mana           Square        1.11   \n",
       "1996  Red Dead Redemption: Undead Nightmare   Rockstar Games        1.11   \n",
       "1998                          EA Sports UFC  Electronic Arts        1.11   \n",
       "\n",
       "      NASales  PALSales  JPSales  OtherSales ReleaseDate  \\\n",
       "1       41.36     29.02     3.77        8.51  2006-11-19   \n",
       "2       29.08      3.58     6.81        0.77  1985-10-18   \n",
       "3       15.91     12.92     3.80        3.35  2008-04-27   \n",
       "4       15.61     10.99     3.29        3.02  2009-07-26   \n",
       "5       11.27      8.89    10.22        1.00  1998-09-30   \n",
       "...       ...       ...      ...         ...         ...   \n",
       "1987     0.50      0.37     0.10        0.15  2010-10-05   \n",
       "1992     0.33      0.07     0.70        0.01  1986-06-01   \n",
       "1994     0.18      0.13     0.73        0.07  2000-06-07   \n",
       "1996     0.61      0.38     0.02        0.10  2010-11-23   \n",
       "1998     0.49      0.43     0.01        0.18  2014-06-17   \n",
       "\n",
       "                                             LinkToPage  DaysReleased  \n",
       "1     https://www.vgchartz.com/games/game.php?id=266...        5146.0  \n",
       "2     https://www.vgchartz.com/games/game.php?id=645...       12848.0  \n",
       "3     https://www.vgchartz.com/games/game.php?id=696...        4621.0  \n",
       "4     https://www.vgchartz.com/games/game.php?id=246...        4166.0  \n",
       "5     https://www.vgchartz.com/games/game.php?id=403...        8118.0  \n",
       "...                                                 ...           ...  \n",
       "1987  https://www.vgchartz.com/games/game.php?id=350...        3730.0  \n",
       "1992  https://www.vgchartz.com/games/game.php?id=623...       12622.0  \n",
       "1994  https://www.vgchartz.com/games/game.php?id=427...        7502.0  \n",
       "1996  https://www.vgchartz.com/games/game.php?id=482...        3681.0  \n",
       "1998  https://www.vgchartz.com/games/game.php?id=731...        2379.0  \n",
       "\n",
       "[1228 rows x 10 columns]"
      ]
     },
     "execution_count": 3,
     "metadata": {},
     "output_type": "execute_result"
    }
   ],
   "source": [
    "# Drop any column with any missing data for easier analysis purposes.\n",
    "# Although this action will eliminate some data, we still have a large enough datasize to get an accurate result.\n",
    "df = df.dropna(how = 'any')\n",
    "\n",
    "df"
   ]
  },
  {
   "cell_type": "markdown",
   "metadata": {},
   "source": [
    "We would like to add a genre column to the dataframe because that is one of the factor we would like to explore. We found that the vgchartz.com is running too slow so that it is almost impossible to extract genre of the games from the links containing details of each game. Luckily, we have found a dataset from https://www.kaggle.com/gregorut/videogamesales which is the top 16600 best-selling games in 2016, which has all top 2000 best-selling games this year. We will only use the genre column from this dataset."
   ]
  },
  {
   "cell_type": "code",
   "execution_count": 4,
   "metadata": {},
   "outputs": [
    {
     "data": {
      "text/html": [
       "<div>\n",
       "<style scoped>\n",
       "    .dataframe tbody tr th:only-of-type {\n",
       "        vertical-align: middle;\n",
       "    }\n",
       "\n",
       "    .dataframe tbody tr th {\n",
       "        vertical-align: top;\n",
       "    }\n",
       "\n",
       "    .dataframe thead th {\n",
       "        text-align: right;\n",
       "    }\n",
       "</style>\n",
       "<table border=\"1\" class=\"dataframe\">\n",
       "  <thead>\n",
       "    <tr style=\"text-align: right;\">\n",
       "      <th></th>\n",
       "      <th>Game</th>\n",
       "      <th>Platform</th>\n",
       "      <th>Genre</th>\n",
       "    </tr>\n",
       "  </thead>\n",
       "  <tbody>\n",
       "    <tr>\n",
       "      <th>0</th>\n",
       "      <td>Wii Sports</td>\n",
       "      <td>Wii</td>\n",
       "      <td>Sports</td>\n",
       "    </tr>\n",
       "    <tr>\n",
       "      <th>1</th>\n",
       "      <td>Super Mario Bros.</td>\n",
       "      <td>NES</td>\n",
       "      <td>Platform</td>\n",
       "    </tr>\n",
       "    <tr>\n",
       "      <th>2</th>\n",
       "      <td>Mario Kart Wii</td>\n",
       "      <td>Wii</td>\n",
       "      <td>Racing</td>\n",
       "    </tr>\n",
       "    <tr>\n",
       "      <th>3</th>\n",
       "      <td>Wii Sports Resort</td>\n",
       "      <td>Wii</td>\n",
       "      <td>Sports</td>\n",
       "    </tr>\n",
       "    <tr>\n",
       "      <th>4</th>\n",
       "      <td>Pokemon Red/Pokemon Blue</td>\n",
       "      <td>GB</td>\n",
       "      <td>Role-Playing</td>\n",
       "    </tr>\n",
       "    <tr>\n",
       "      <th>...</th>\n",
       "      <td>...</td>\n",
       "      <td>...</td>\n",
       "      <td>...</td>\n",
       "    </tr>\n",
       "    <tr>\n",
       "      <th>16593</th>\n",
       "      <td>Woody Woodpecker in Crazy Castle 5</td>\n",
       "      <td>GBA</td>\n",
       "      <td>Platform</td>\n",
       "    </tr>\n",
       "    <tr>\n",
       "      <th>16594</th>\n",
       "      <td>Men in Black II: Alien Escape</td>\n",
       "      <td>GC</td>\n",
       "      <td>Shooter</td>\n",
       "    </tr>\n",
       "    <tr>\n",
       "      <th>16595</th>\n",
       "      <td>SCORE International Baja 1000: The Official Game</td>\n",
       "      <td>PS2</td>\n",
       "      <td>Racing</td>\n",
       "    </tr>\n",
       "    <tr>\n",
       "      <th>16596</th>\n",
       "      <td>Know How 2</td>\n",
       "      <td>DS</td>\n",
       "      <td>Puzzle</td>\n",
       "    </tr>\n",
       "    <tr>\n",
       "      <th>16597</th>\n",
       "      <td>Spirits &amp; Spells</td>\n",
       "      <td>GBA</td>\n",
       "      <td>Platform</td>\n",
       "    </tr>\n",
       "  </tbody>\n",
       "</table>\n",
       "<p>16598 rows × 3 columns</p>\n",
       "</div>"
      ],
      "text/plain": [
       "                                                   Game Platform         Genre\n",
       "0                                            Wii Sports      Wii        Sports\n",
       "1                                     Super Mario Bros.      NES      Platform\n",
       "2                                        Mario Kart Wii      Wii        Racing\n",
       "3                                     Wii Sports Resort      Wii        Sports\n",
       "4                              Pokemon Red/Pokemon Blue       GB  Role-Playing\n",
       "...                                                 ...      ...           ...\n",
       "16593                Woody Woodpecker in Crazy Castle 5      GBA      Platform\n",
       "16594                     Men in Black II: Alien Escape       GC       Shooter\n",
       "16595  SCORE International Baja 1000: The Official Game      PS2        Racing\n",
       "16596                                        Know How 2       DS        Puzzle\n",
       "16597                                  Spirits & Spells      GBA      Platform\n",
       "\n",
       "[16598 rows x 3 columns]"
      ]
     },
     "execution_count": 4,
     "metadata": {},
     "output_type": "execute_result"
    }
   ],
   "source": [
    "df2 = pd.read_csv('./vgsales.csv')\n",
    "df2.drop(['Rank','Year','Publisher','NA_Sales', 'EU_Sales', 'JP_Sales', \n",
    "             'Other_Sales', 'Global_Sales'], axis = 1, inplace = True)\n",
    "df2.rename(columns = {'Name':'Game'}, inplace = True)\n",
    "df2 = df2.dropna(how = 'any')\n",
    "\n",
    "df2"
   ]
  },
  {
   "cell_type": "code",
   "execution_count": 5,
   "metadata": {},
   "outputs": [
    {
     "data": {
      "text/html": [
       "<div>\n",
       "<style scoped>\n",
       "    .dataframe tbody tr th:only-of-type {\n",
       "        vertical-align: middle;\n",
       "    }\n",
       "\n",
       "    .dataframe tbody tr th {\n",
       "        vertical-align: top;\n",
       "    }\n",
       "\n",
       "    .dataframe thead th {\n",
       "        text-align: right;\n",
       "    }\n",
       "</style>\n",
       "<table border=\"1\" class=\"dataframe\">\n",
       "  <thead>\n",
       "    <tr style=\"text-align: right;\">\n",
       "      <th></th>\n",
       "      <th>Game</th>\n",
       "      <th>Publisher</th>\n",
       "      <th>TotalSales</th>\n",
       "      <th>NASales</th>\n",
       "      <th>PALSales</th>\n",
       "      <th>JPSales</th>\n",
       "      <th>OtherSales</th>\n",
       "      <th>ReleaseDate</th>\n",
       "      <th>LinkToPage</th>\n",
       "      <th>DaysReleased</th>\n",
       "      <th>Platform</th>\n",
       "      <th>Genre</th>\n",
       "      <th>Year</th>\n",
       "    </tr>\n",
       "  </thead>\n",
       "  <tbody>\n",
       "    <tr>\n",
       "      <th>1</th>\n",
       "      <td>Wii Sports</td>\n",
       "      <td>Nintendo</td>\n",
       "      <td>82.65</td>\n",
       "      <td>41.36</td>\n",
       "      <td>29.02</td>\n",
       "      <td>3.77</td>\n",
       "      <td>8.51</td>\n",
       "      <td>2006-11-19</td>\n",
       "      <td>https://www.vgchartz.com/games/game.php?id=266...</td>\n",
       "      <td>5146.0</td>\n",
       "      <td>Wii</td>\n",
       "      <td>Sports</td>\n",
       "      <td>2006</td>\n",
       "    </tr>\n",
       "    <tr>\n",
       "      <th>2</th>\n",
       "      <td>Super Mario Bros.</td>\n",
       "      <td>Nintendo</td>\n",
       "      <td>40.24</td>\n",
       "      <td>29.08</td>\n",
       "      <td>3.58</td>\n",
       "      <td>6.81</td>\n",
       "      <td>0.77</td>\n",
       "      <td>1985-10-18</td>\n",
       "      <td>https://www.vgchartz.com/games/game.php?id=645...</td>\n",
       "      <td>12848.0</td>\n",
       "      <td>NES</td>\n",
       "      <td>Platform</td>\n",
       "      <td>1985</td>\n",
       "    </tr>\n",
       "    <tr>\n",
       "      <th>4</th>\n",
       "      <td>Mario Kart Wii</td>\n",
       "      <td>Nintendo</td>\n",
       "      <td>35.98</td>\n",
       "      <td>15.91</td>\n",
       "      <td>12.92</td>\n",
       "      <td>3.80</td>\n",
       "      <td>3.35</td>\n",
       "      <td>2008-04-27</td>\n",
       "      <td>https://www.vgchartz.com/games/game.php?id=696...</td>\n",
       "      <td>4621.0</td>\n",
       "      <td>Wii</td>\n",
       "      <td>Racing</td>\n",
       "      <td>2008</td>\n",
       "    </tr>\n",
       "    <tr>\n",
       "      <th>5</th>\n",
       "      <td>Wii Sports Resort</td>\n",
       "      <td>Nintendo</td>\n",
       "      <td>32.90</td>\n",
       "      <td>15.61</td>\n",
       "      <td>10.99</td>\n",
       "      <td>3.29</td>\n",
       "      <td>3.02</td>\n",
       "      <td>2009-07-26</td>\n",
       "      <td>https://www.vgchartz.com/games/game.php?id=246...</td>\n",
       "      <td>4166.0</td>\n",
       "      <td>Wii</td>\n",
       "      <td>Sports</td>\n",
       "      <td>2009</td>\n",
       "    </tr>\n",
       "    <tr>\n",
       "      <th>6</th>\n",
       "      <td>Tetris</td>\n",
       "      <td>Nintendo</td>\n",
       "      <td>30.26</td>\n",
       "      <td>23.20</td>\n",
       "      <td>2.26</td>\n",
       "      <td>4.22</td>\n",
       "      <td>0.58</td>\n",
       "      <td>1989-06-01</td>\n",
       "      <td>https://www.vgchartz.com/games/game.php?id=453...</td>\n",
       "      <td>11526.0</td>\n",
       "      <td>GB</td>\n",
       "      <td>Puzzle</td>\n",
       "      <td>1989</td>\n",
       "    </tr>\n",
       "  </tbody>\n",
       "</table>\n",
       "</div>"
      ],
      "text/plain": [
       "                Game Publisher  TotalSales  NASales  PALSales  JPSales  \\\n",
       "1         Wii Sports  Nintendo       82.65    41.36     29.02     3.77   \n",
       "2  Super Mario Bros.  Nintendo       40.24    29.08      3.58     6.81   \n",
       "4     Mario Kart Wii  Nintendo       35.98    15.91     12.92     3.80   \n",
       "5  Wii Sports Resort  Nintendo       32.90    15.61     10.99     3.29   \n",
       "6             Tetris  Nintendo       30.26    23.20      2.26     4.22   \n",
       "\n",
       "   OtherSales ReleaseDate                                         LinkToPage  \\\n",
       "1        8.51  2006-11-19  https://www.vgchartz.com/games/game.php?id=266...   \n",
       "2        0.77  1985-10-18  https://www.vgchartz.com/games/game.php?id=645...   \n",
       "4        3.35  2008-04-27  https://www.vgchartz.com/games/game.php?id=696...   \n",
       "5        3.02  2009-07-26  https://www.vgchartz.com/games/game.php?id=246...   \n",
       "6        0.58  1989-06-01  https://www.vgchartz.com/games/game.php?id=453...   \n",
       "\n",
       "   DaysReleased Platform     Genre  Year  \n",
       "1        5146.0      Wii    Sports  2006  \n",
       "2       12848.0      NES  Platform  1985  \n",
       "4        4621.0      Wii    Racing  2008  \n",
       "5        4166.0      Wii    Sports  2009  \n",
       "6       11526.0       GB    Puzzle  1989  "
      ]
     },
     "execution_count": 5,
     "metadata": {},
     "output_type": "execute_result"
    }
   ],
   "source": [
    "# Inner join two data sets to add the Genre column\n",
    "df = pd.merge(df, df2, on = 'Game')\n",
    "df = df.drop_duplicates(subset = ['Game'])\n",
    "df.index += 1\n",
    "\n",
    "# Extract Year from release date for easier analysis purposes\n",
    "df['Year'] = pd.DatetimeIndex(df['ReleaseDate']).year\n",
    "\n",
    "df.head()"
   ]
  },
  {
   "cell_type": "markdown",
   "metadata": {},
   "source": [
    "## Data Visualization <a class=\"anchor\" id=\"chapter2\"></a>"
   ]
  },
  {
   "cell_type": "markdown",
   "metadata": {},
   "source": [
    "### Number of games in Top 200 Best-Seller released by each publisher  <a class=\"anchor\" id=\"section_1_1\"></a>"
   ]
  },
  {
   "cell_type": "code",
   "execution_count": 6,
   "metadata": {},
   "outputs": [
    {
     "data": {
      "image/png": "[encoded data removed]",
      "text/plain": [
       "<Figure size 1440x360 with 1 Axes>"
      ]
     },
     "metadata": {
      "needs_background": "light"
     },
     "output_type": "display_data"
    }
   ],
   "source": [
    "plt.figure(figsize = (20, 5))\n",
    "plt1 = sbn.countplot(x = \"Publisher\", data = df, order = df['Publisher'].value_counts().index)\n",
    "plt1.set_title('Number of Games in Top 2000 Best-Seller by Publisher')\n",
    "\n",
    "plt.xticks(rotation = 90)\n",
    "totalSalesByPublisher = df.groupby(by = ['Publisher'])['TotalSales'].sum()\n",
    "totalSalesByPublisher = totalSalesByPublisher.reset_index()\n",
    "totalSalesByPublisher = totalSalesByPublisher.sort_values(by = ['TotalSales'], ascending = False)"
   ]
  },
  {
   "cell_type": "markdown",
   "metadata": {},
   "source": [
    "### Total sales of each publisher <a class=\"anchor\" id=\"section_1_2\"></a>"
   ]
  },
  {
   "cell_type": "code",
   "execution_count": 7,
   "metadata": {},
   "outputs": [
    {
     "data": {
      "text/plain": [
       "(array([ 0,  1,  2,  3,  4,  5,  6,  7,  8,  9, 10, 11, 12, 13, 14, 15, 16,\n",
       "        17, 18, 19, 20, 21, 22, 23, 24, 25, 26, 27, 28, 29, 30, 31, 32, 33,\n",
       "        34, 35, 36, 37, 38, 39, 40, 41, 42, 43, 44, 45, 46, 47, 48, 49, 50,\n",
       "        51, 52, 53, 54, 55, 56, 57, 58, 59, 60, 61]),\n",
       " <a list of 62 Text major ticklabel objects>)"
      ]
     },
     "execution_count": 7,
     "metadata": {},
     "output_type": "execute_result"
    },
    {
     "data": {
      "image/png": "[encoded data removed]",
      "text/plain": [
       "<Figure size 1440x360 with 1 Axes>"
      ]
     },
     "metadata": {
      "needs_background": "light"
     },
     "output_type": "display_data"
    }
   ],
   "source": [
    "plt.figure(figsize = (20, 5))\n",
    "plt2 = sbn.barplot(x = \"Publisher\", y = \"TotalSales\", data = totalSalesByPublisher)\n",
    "plt2.set_title('Total Sales of Games by Publisher')\n",
    "plt.xticks(rotation = 90)"
   ]
  },
  {
   "cell_type": "markdown",
   "metadata": {},
   "source": [
    "It is more than obvious that Nintendo dominates the global market. With more than 300 games having a seat in the chart of top-2000 sellers, its total sales outweighs the company with second high total sales approximately 4 times. Another observation from comparing and constrasting these two graphs is that all companies are at about the same position in the bar chart, which means that for companies in top-2000 sellers, the more games they published, the more money they could make. <br>\n",
    "This observation implicates a cycle in video game market. After a company successfully launched a popular game, its fans would be willing to try the next game made by the company, which ensures the sales of the next launch. As one of the most ealiest founded companies in the industry, Nintendo has already been on a advantageous place after its launch of Super Mario Seires in 1980s. And so it is not surprising that Nintendo has a overwhelming superiority over the others."
   ]
  },
  {
   "cell_type": "markdown",
   "metadata": {},
   "source": [
    "### Sales of each publisher by region <a class=\"anchor\" id=\"section_1_3\"></a>"
   ]
  },
  {
   "cell_type": "code",
   "execution_count": 8,
   "metadata": {},
   "outputs": [
    {
     "data": {
      "text/plain": [
       "(array([ 0,  1,  2,  3,  4,  5,  6,  7,  8,  9, 10, 11, 12, 13, 14, 15, 16,\n",
       "        17, 18, 19, 20, 21, 22, 23, 24, 25, 26, 27, 28, 29, 30, 31, 32, 33,\n",
       "        34, 35, 36, 37, 38, 39, 40, 41, 42, 43, 44, 45, 46, 47, 48, 49, 50,\n",
       "        51, 52, 53, 54, 55, 56, 57, 58, 59, 60, 61]),\n",
       " <a list of 62 Text major ticklabel objects>)"
      ]
     },
     "execution_count": 8,
     "metadata": {},
     "output_type": "execute_result"
    },
    {
     "data": {
      "image/png": "[encoded data removed]",
      "text/plain": [
       "<Figure size 1440x360 with 1 Axes>"
      ]
     },
     "metadata": {
      "needs_background": "light"
     },
     "output_type": "display_data"
    }
   ],
   "source": [
    "publisherSalesByRegion = df[['Publisher', 'NASales', 'PALSales', 'JPSales', 'OtherSales']].groupby(by = ['Publisher']).sum().reset_index()\n",
    "publisherSalesByRegionData = pd.melt(publisherSalesByRegion, id_vars = ['Publisher'], value_vars = ['NASales', 'PALSales', 'JPSales', 'OtherSales'], var_name = 'Region', value_name = 'Sales')\n",
    "\n",
    "plt.figure(figsize = (20, 5))\n",
    "plt3 = sbn.barplot(x = 'Publisher', y = 'Sales', hue = 'Region', data = publisherSalesByRegionData)\n",
    "plt3.set_title('Sales of Games by Publisher and by Region')\n",
    "\n",
    "plt.xticks(rotation = 90)"
   ]
  },
  {
   "cell_type": "markdown",
   "metadata": {},
   "source": [
    "### Total sales by region <a class=\"anchor\" id=\"section_1_4\"></a>"
   ]
  },
  {
   "cell_type": "code",
   "execution_count": 9,
   "metadata": {},
   "outputs": [
    {
     "data": {
      "text/plain": [
       "Text(0.5, 1.0, 'Regional Sales Pct')"
      ]
     },
     "execution_count": 9,
     "metadata": {},
     "output_type": "execute_result"
    },
    {
     "data": {
      "image/png": "[encoded data removed]",
      "text/plain": [
       "<Figure size 360x360 with 1 Axes>"
      ]
     },
     "metadata": {
      "needs_background": "light"
     },
     "output_type": "display_data"
    },
    {
     "data": {
      "image/png": "[encoded data removed]",
      "text/plain": [
       "<Figure size 360x360 with 1 Axes>"
      ]
     },
     "metadata": {},
     "output_type": "display_data"
    }
   ],
   "source": [
    "salesByRegion = df[['NASales', 'PALSales', 'JPSales', 'OtherSales']]\n",
    "totalSalesByRegion = salesByRegion.sum().reset_index()\n",
    "totalSalesByRegion = totalSalesByRegion.rename(columns = {\"index\": \"Region\", 0: \"TotalSalesOfTheRegion\"})\n",
    "\n",
    "plt.figure(figsize = (5, 5))\n",
    "plt4 = sbn.barplot(x = \"Region\", y = \"TotalSalesOfTheRegion\", data = totalSalesByRegion)\n",
    "plt4.set_title('Regional Sales Vals')\n",
    "plt.xticks(rotation = 90)\n",
    "\n",
    "plt.figure(figsize=(5, 5))\n",
    "plt5 = plt.pie(totalSalesByRegion['TotalSalesOfTheRegion'], labels = totalSalesByRegion['Region'], autopct = '%1.1f%%', startangle=90)\n",
    "plt.title('Regional Sales Pct')"
   ]
  },
  {
   "cell_type": "markdown",
   "metadata": {},
   "source": [
    "NA seems to be the largest market in the graph of sales of games by publisher and by region graph, and the bar chart as well as the pie chart further proven our guess. This is a bit counterintuitive because we thought that PAL sales would account for the largest portion. A noticable point is that although Japan's population accounts less than 2% of total population, Japan Sales accounts for 13.9% of total sales, which implicates the prosperity of Japanese Gaming Industry. "
   ]
  },
  {
   "cell_type": "markdown",
   "metadata": {},
   "source": [
    "### Released days with total sales for each region <a class=\"anchor\" id=\"section_1_5\"></a>"
   ]
  },
  {
   "cell_type": "code",
   "execution_count": 10,
   "metadata": {},
   "outputs": [
    {
     "data": {
      "image/png": "[encoded data removed]",
      "text/plain": [
       "<Figure size 1440x360 with 1 Axes>"
      ]
     },
     "metadata": {
      "needs_background": "light"
     },
     "output_type": "display_data"
    }
   ],
   "source": [
    "plt.figure(figsize = (20,5))\n",
    "plt.scatter(df['DaysReleased'], df['TotalSales'], color = 'pink')\n",
    "plt.scatter(df['DaysReleased'], df['NASales'], color = 'blue')\n",
    "plt.scatter(df['DaysReleased'], df['PALSales'], color = 'orange')\n",
    "plt.scatter(df['DaysReleased'], df['JPSales'], color = 'green')\n",
    "plt.scatter(df['DaysReleased'], df['OtherSales'], color = 'red')\n",
    "\n",
    "plt.xlabel(\"DaysReleased\", fontsize = 15)\n",
    "plt.ylabel(\"TotalSales\", fontsize = 15)\n",
    "\n",
    "plt.show()"
   ]
  },
  {
   "cell_type": "markdown",
   "metadata": {},
   "source": [
    "We find that it is hard to find a meaningful relationship between the sales and the length of time the game has been published. i.e., a good game won't fade over time."
   ]
  },
  {
   "cell_type": "markdown",
   "metadata": {},
   "source": [
    "### Sales of games by release year <a class=\"anchor\" id=\"section_1_6\"></a>"
   ]
  },
  {
   "cell_type": "code",
   "execution_count": 11,
   "metadata": {},
   "outputs": [
    {
     "data": {
      "text/html": [
       "<div>\n",
       "<style scoped>\n",
       "    .dataframe tbody tr th:only-of-type {\n",
       "        vertical-align: middle;\n",
       "    }\n",
       "\n",
       "    .dataframe tbody tr th {\n",
       "        vertical-align: top;\n",
       "    }\n",
       "\n",
       "    .dataframe thead th {\n",
       "        text-align: right;\n",
       "    }\n",
       "</style>\n",
       "<table border=\"1\" class=\"dataframe\">\n",
       "  <thead>\n",
       "    <tr style=\"text-align: right;\">\n",
       "      <th></th>\n",
       "      <th>Year</th>\n",
       "      <th>TotalSales</th>\n",
       "      <th>NASales</th>\n",
       "      <th>PALSales</th>\n",
       "      <th>JPSales</th>\n",
       "      <th>OtherSales</th>\n",
       "      <th>DaysReleased</th>\n",
       "    </tr>\n",
       "  </thead>\n",
       "  <tbody>\n",
       "    <tr>\n",
       "      <th>0</th>\n",
       "      <td>1985</td>\n",
       "      <td>91.53</td>\n",
       "      <td>64.79</td>\n",
       "      <td>6.17</td>\n",
       "      <td>19.01</td>\n",
       "      <td>1.55</td>\n",
       "      <td>141382.0</td>\n",
       "    </tr>\n",
       "    <tr>\n",
       "      <th>1</th>\n",
       "      <td>1986</td>\n",
       "      <td>7.53</td>\n",
       "      <td>2.56</td>\n",
       "      <td>0.69</td>\n",
       "      <td>4.19</td>\n",
       "      <td>0.10</td>\n",
       "      <td>62621.0</td>\n",
       "    </tr>\n",
       "    <tr>\n",
       "      <th>2</th>\n",
       "      <td>1987</td>\n",
       "      <td>26.80</td>\n",
       "      <td>12.31</td>\n",
       "      <td>3.15</td>\n",
       "      <td>10.87</td>\n",
       "      <td>0.46</td>\n",
       "      <td>122596.0</td>\n",
       "    </tr>\n",
       "    <tr>\n",
       "      <th>3</th>\n",
       "      <td>1988</td>\n",
       "      <td>15.82</td>\n",
       "      <td>9.44</td>\n",
       "      <td>2.14</td>\n",
       "      <td>3.90</td>\n",
       "      <td>0.34</td>\n",
       "      <td>47320.0</td>\n",
       "    </tr>\n",
       "    <tr>\n",
       "      <th>4</th>\n",
       "      <td>1989</td>\n",
       "      <td>57.69</td>\n",
       "      <td>40.21</td>\n",
       "      <td>6.24</td>\n",
       "      <td>10.10</td>\n",
       "      <td>1.14</td>\n",
       "      <td>68912.0</td>\n",
       "    </tr>\n",
       "  </tbody>\n",
       "</table>\n",
       "</div>"
      ],
      "text/plain": [
       "   Year  TotalSales  NASales  PALSales  JPSales  OtherSales  DaysReleased\n",
       "0  1985       91.53    64.79      6.17    19.01        1.55      141382.0\n",
       "1  1986        7.53     2.56      0.69     4.19        0.10       62621.0\n",
       "2  1987       26.80    12.31      3.15    10.87        0.46      122596.0\n",
       "3  1988       15.82     9.44      2.14     3.90        0.34       47320.0\n",
       "4  1989       57.69    40.21      6.24    10.10        1.14       68912.0"
      ]
     },
     "execution_count": 11,
     "metadata": {},
     "output_type": "execute_result"
    }
   ],
   "source": [
    "groupByYear = df.groupby([\"Year\"])\n",
    "dfGroupByYear = groupByYear.sum()\n",
    "dfGroupByYear = dfGroupByYear.reset_index()\n",
    "\n",
    "dfGroupByYear.head()"
   ]
  },
  {
   "cell_type": "code",
   "execution_count": 12,
   "metadata": {},
   "outputs": [
    {
     "data": {
      "text/plain": [
       "(array([ 0,  1,  2,  3,  4,  5,  6,  7,  8,  9, 10, 11, 12, 13, 14, 15, 16,\n",
       "        17, 18, 19, 20, 21, 22, 23, 24, 25, 26, 27, 28, 29, 30, 31, 32, 33]),\n",
       " <a list of 34 Text major ticklabel objects>)"
      ]
     },
     "execution_count": 12,
     "metadata": {},
     "output_type": "execute_result"
    },
    {
     "data": {
      "image/png": "[encoded data removed]",
      "text/plain": [
       "<Figure size 1440x360 with 1 Axes>"
      ]
     },
     "metadata": {
      "needs_background": "light"
     },
     "output_type": "display_data"
    }
   ],
   "source": [
    "plt.figure(figsize = (20, 5))\n",
    "plt6 = sbn.barplot(x = \"Year\", y = \"TotalSales\", data = dfGroupByYear)\n",
    "plt6.set_title('Total Sales of Games by Year')\n",
    "plt.xticks(rotation = 90)"
   ]
  },
  {
   "cell_type": "markdown",
   "metadata": {},
   "source": [
    "The gaming industry has experienced a continuous growth from 1995, reaching a peak in 2009, and the sales was on a decline since then. It is noticable that the sales of games published in 1985 is significantly greater than its neighbours. It was the year when Super Mario Bro was launched, which is still in Top 10 best sellers in 2020. How impressive!"
   ]
  },
  {
   "cell_type": "markdown",
   "metadata": {},
   "source": [
    "### Number of games released by year <a class=\"anchor\" id=\"section_1_7\"></a>"
   ]
  },
  {
   "cell_type": "code",
   "execution_count": 13,
   "metadata": {},
   "outputs": [
    {
     "data": {
      "text/html": [
       "<div>\n",
       "<style scoped>\n",
       "    .dataframe tbody tr th:only-of-type {\n",
       "        vertical-align: middle;\n",
       "    }\n",
       "\n",
       "    .dataframe tbody tr th {\n",
       "        vertical-align: top;\n",
       "    }\n",
       "\n",
       "    .dataframe thead th {\n",
       "        text-align: right;\n",
       "    }\n",
       "</style>\n",
       "<table border=\"1\" class=\"dataframe\">\n",
       "  <thead>\n",
       "    <tr style=\"text-align: right;\">\n",
       "      <th></th>\n",
       "      <th>Year</th>\n",
       "      <th>Game</th>\n",
       "      <th>Publisher</th>\n",
       "      <th>TotalSales</th>\n",
       "      <th>NASales</th>\n",
       "      <th>PALSales</th>\n",
       "      <th>JPSales</th>\n",
       "      <th>OtherSales</th>\n",
       "      <th>ReleaseDate</th>\n",
       "      <th>LinkToPage</th>\n",
       "      <th>DaysReleased</th>\n",
       "      <th>Platform</th>\n",
       "      <th>Genre</th>\n",
       "    </tr>\n",
       "  </thead>\n",
       "  <tbody>\n",
       "    <tr>\n",
       "      <th>0</th>\n",
       "      <td>1985</td>\n",
       "      <td>11</td>\n",
       "      <td>11</td>\n",
       "      <td>91.53</td>\n",
       "      <td>11</td>\n",
       "      <td>11</td>\n",
       "      <td>11</td>\n",
       "      <td>11</td>\n",
       "      <td>11</td>\n",
       "      <td>11</td>\n",
       "      <td>11</td>\n",
       "      <td>11</td>\n",
       "      <td>11</td>\n",
       "    </tr>\n",
       "    <tr>\n",
       "      <th>1</th>\n",
       "      <td>1986</td>\n",
       "      <td>5</td>\n",
       "      <td>5</td>\n",
       "      <td>7.53</td>\n",
       "      <td>5</td>\n",
       "      <td>5</td>\n",
       "      <td>5</td>\n",
       "      <td>5</td>\n",
       "      <td>5</td>\n",
       "      <td>5</td>\n",
       "      <td>5</td>\n",
       "      <td>5</td>\n",
       "      <td>5</td>\n",
       "    </tr>\n",
       "    <tr>\n",
       "      <th>2</th>\n",
       "      <td>1987</td>\n",
       "      <td>10</td>\n",
       "      <td>10</td>\n",
       "      <td>26.80</td>\n",
       "      <td>10</td>\n",
       "      <td>10</td>\n",
       "      <td>10</td>\n",
       "      <td>10</td>\n",
       "      <td>10</td>\n",
       "      <td>10</td>\n",
       "      <td>10</td>\n",
       "      <td>10</td>\n",
       "      <td>10</td>\n",
       "    </tr>\n",
       "    <tr>\n",
       "      <th>3</th>\n",
       "      <td>1988</td>\n",
       "      <td>4</td>\n",
       "      <td>4</td>\n",
       "      <td>15.82</td>\n",
       "      <td>4</td>\n",
       "      <td>4</td>\n",
       "      <td>4</td>\n",
       "      <td>4</td>\n",
       "      <td>4</td>\n",
       "      <td>4</td>\n",
       "      <td>4</td>\n",
       "      <td>4</td>\n",
       "      <td>4</td>\n",
       "    </tr>\n",
       "    <tr>\n",
       "      <th>4</th>\n",
       "      <td>1989</td>\n",
       "      <td>6</td>\n",
       "      <td>6</td>\n",
       "      <td>57.69</td>\n",
       "      <td>6</td>\n",
       "      <td>6</td>\n",
       "      <td>6</td>\n",
       "      <td>6</td>\n",
       "      <td>6</td>\n",
       "      <td>6</td>\n",
       "      <td>6</td>\n",
       "      <td>6</td>\n",
       "      <td>6</td>\n",
       "    </tr>\n",
       "  </tbody>\n",
       "</table>\n",
       "</div>"
      ],
      "text/plain": [
       "   Year  Game  Publisher  TotalSales  NASales  PALSales  JPSales  OtherSales  \\\n",
       "0  1985    11         11       91.53       11        11       11          11   \n",
       "1  1986     5          5        7.53        5         5        5           5   \n",
       "2  1987    10         10       26.80       10        10       10          10   \n",
       "3  1988     4          4       15.82        4         4        4           4   \n",
       "4  1989     6          6       57.69        6         6        6           6   \n",
       "\n",
       "   ReleaseDate  LinkToPage  DaysReleased  Platform  Genre  \n",
       "0           11          11            11        11     11  \n",
       "1            5           5             5         5      5  \n",
       "2           10          10            10        10     10  \n",
       "3            4           4             4         4      4  \n",
       "4            6           6             6         6      6  "
      ]
     },
     "execution_count": 13,
     "metadata": {},
     "output_type": "execute_result"
    }
   ],
   "source": [
    "countByYear = df.groupby([\"Year\"]).count()\n",
    "countByYear = countByYear.reset_index()\n",
    "countByYear[\"TotalSales\"] = dfGroupByYear[\"TotalSales\"]\n",
    "\n",
    "countByYear.head()"
   ]
  },
  {
   "cell_type": "code",
   "execution_count": 14,
   "metadata": {},
   "outputs": [
    {
     "data": {
      "text/plain": [
       "(array([ 0,  1,  2,  3,  4,  5,  6,  7,  8,  9, 10, 11, 12, 13, 14, 15, 16,\n",
       "        17, 18, 19, 20, 21, 22, 23, 24, 25, 26, 27, 28, 29, 30, 31, 32, 33]),\n",
       " <a list of 34 Text major ticklabel objects>)"
      ]
     },
     "execution_count": 14,
     "metadata": {},
     "output_type": "execute_result"
    },
    {
     "data": {
      "image/png": "[encoded data removed]",
      "text/plain": [
       "<Figure size 1440x360 with 1 Axes>"
      ]
     },
     "metadata": {
      "needs_background": "light"
     },
     "output_type": "display_data"
    }
   ],
   "source": [
    "plt.figure(figsize = (20, 5))\n",
    "plt7 = sbn.barplot(x = \"Year\", y = \"Game\", data = countByYear)\n",
    "plt7.set_title('Total Count of Games by Year')\n",
    "plt.xticks(rotation = 90)"
   ]
  },
  {
   "cell_type": "markdown",
   "metadata": {},
   "source": [
    "We can see that there is most number of games released in 2008 in top 2000 sellers, which is surprising. During the particularly hard period of global financial crisis in 2008, the gaming industry still kept growing prosperously, and so many masterpiece was released this year. It is noticable that the number of games before 2000 and after 2016 are much less than the rest. Before 2000, the limitation of technology might be the reason. Game makers don't have techniques to make fancy games with nice scene or music like what we could see today. After 2016, the reason might be that the gaming industry has reached a market saturation, i.e., there are already too many masterpiece products in each genre, so that it is more difficult for the newly-launched games to take over the place. So we decided to look into each genre."
   ]
  },
  {
   "cell_type": "markdown",
   "metadata": {},
   "source": [
    "### Genre and Sales <a class=\"anchor\" id=\"section_1_8\"></a>"
   ]
  },
  {
   "cell_type": "code",
   "execution_count": 15,
   "metadata": {},
   "outputs": [
    {
     "data": {
      "text/html": [
       "<div>\n",
       "<style scoped>\n",
       "    .dataframe tbody tr th:only-of-type {\n",
       "        vertical-align: middle;\n",
       "    }\n",
       "\n",
       "    .dataframe tbody tr th {\n",
       "        vertical-align: top;\n",
       "    }\n",
       "\n",
       "    .dataframe thead th {\n",
       "        text-align: right;\n",
       "    }\n",
       "</style>\n",
       "<table border=\"1\" class=\"dataframe\">\n",
       "  <thead>\n",
       "    <tr style=\"text-align: right;\">\n",
       "      <th></th>\n",
       "      <th>Genre</th>\n",
       "      <th>TotalSales</th>\n",
       "      <th>NASales</th>\n",
       "      <th>PALSales</th>\n",
       "      <th>JPSales</th>\n",
       "      <th>OtherSales</th>\n",
       "      <th>DaysReleased</th>\n",
       "      <th>Year</th>\n",
       "    </tr>\n",
       "  </thead>\n",
       "  <tbody>\n",
       "    <tr>\n",
       "      <th>0</th>\n",
       "      <td>Action</td>\n",
       "      <td>602.29</td>\n",
       "      <td>278.73</td>\n",
       "      <td>191.92</td>\n",
       "      <td>57.71</td>\n",
       "      <td>73.90</td>\n",
       "      <td>1014285.0</td>\n",
       "      <td>379079</td>\n",
       "    </tr>\n",
       "    <tr>\n",
       "      <th>1</th>\n",
       "      <td>Adventure</td>\n",
       "      <td>52.86</td>\n",
       "      <td>24.73</td>\n",
       "      <td>15.60</td>\n",
       "      <td>8.52</td>\n",
       "      <td>4.01</td>\n",
       "      <td>118492.0</td>\n",
       "      <td>40081</td>\n",
       "    </tr>\n",
       "    <tr>\n",
       "      <th>2</th>\n",
       "      <td>Fighting</td>\n",
       "      <td>160.70</td>\n",
       "      <td>80.32</td>\n",
       "      <td>38.75</td>\n",
       "      <td>28.62</td>\n",
       "      <td>12.99</td>\n",
       "      <td>377984.0</td>\n",
       "      <td>116147</td>\n",
       "    </tr>\n",
       "    <tr>\n",
       "      <th>3</th>\n",
       "      <td>Misc</td>\n",
       "      <td>246.17</td>\n",
       "      <td>115.95</td>\n",
       "      <td>75.03</td>\n",
       "      <td>35.03</td>\n",
       "      <td>20.18</td>\n",
       "      <td>299830.0</td>\n",
       "      <td>112317</td>\n",
       "    </tr>\n",
       "    <tr>\n",
       "      <th>4</th>\n",
       "      <td>Platform</td>\n",
       "      <td>504.13</td>\n",
       "      <td>261.24</td>\n",
       "      <td>118.37</td>\n",
       "      <td>96.17</td>\n",
       "      <td>28.29</td>\n",
       "      <td>770221.0</td>\n",
       "      <td>224172</td>\n",
       "    </tr>\n",
       "    <tr>\n",
       "      <th>5</th>\n",
       "      <td>Puzzle</td>\n",
       "      <td>109.42</td>\n",
       "      <td>51.36</td>\n",
       "      <td>24.56</td>\n",
       "      <td>28.12</td>\n",
       "      <td>5.36</td>\n",
       "      <td>228171.0</td>\n",
       "      <td>66050</td>\n",
       "    </tr>\n",
       "    <tr>\n",
       "      <th>6</th>\n",
       "      <td>Racing</td>\n",
       "      <td>329.68</td>\n",
       "      <td>142.58</td>\n",
       "      <td>109.63</td>\n",
       "      <td>40.24</td>\n",
       "      <td>37.23</td>\n",
       "      <td>438724.0</td>\n",
       "      <td>150325</td>\n",
       "    </tr>\n",
       "    <tr>\n",
       "      <th>7</th>\n",
       "      <td>Role-Playing</td>\n",
       "      <td>285.73</td>\n",
       "      <td>113.60</td>\n",
       "      <td>61.07</td>\n",
       "      <td>90.18</td>\n",
       "      <td>20.89</td>\n",
       "      <td>466568.0</td>\n",
       "      <td>184601</td>\n",
       "    </tr>\n",
       "    <tr>\n",
       "      <th>8</th>\n",
       "      <td>Shooter</td>\n",
       "      <td>460.66</td>\n",
       "      <td>268.21</td>\n",
       "      <td>131.66</td>\n",
       "      <td>15.90</td>\n",
       "      <td>44.78</td>\n",
       "      <td>529071.0</td>\n",
       "      <td>224834</td>\n",
       "    </tr>\n",
       "    <tr>\n",
       "      <th>9</th>\n",
       "      <td>Simulation</td>\n",
       "      <td>123.07</td>\n",
       "      <td>46.37</td>\n",
       "      <td>40.70</td>\n",
       "      <td>26.46</td>\n",
       "      <td>9.51</td>\n",
       "      <td>186676.0</td>\n",
       "      <td>68179</td>\n",
       "    </tr>\n",
       "    <tr>\n",
       "      <th>10</th>\n",
       "      <td>Sports</td>\n",
       "      <td>434.95</td>\n",
       "      <td>186.98</td>\n",
       "      <td>150.86</td>\n",
       "      <td>47.01</td>\n",
       "      <td>50.17</td>\n",
       "      <td>555422.0</td>\n",
       "      <td>190414</td>\n",
       "    </tr>\n",
       "    <tr>\n",
       "      <th>11</th>\n",
       "      <td>Strategy</td>\n",
       "      <td>13.16</td>\n",
       "      <td>5.82</td>\n",
       "      <td>2.65</td>\n",
       "      <td>3.96</td>\n",
       "      <td>0.73</td>\n",
       "      <td>34690.0</td>\n",
       "      <td>12028</td>\n",
       "    </tr>\n",
       "  </tbody>\n",
       "</table>\n",
       "</div>"
      ],
      "text/plain": [
       "           Genre  TotalSales  NASales  PALSales  JPSales  OtherSales  \\\n",
       "0         Action      602.29   278.73    191.92    57.71       73.90   \n",
       "1      Adventure       52.86    24.73     15.60     8.52        4.01   \n",
       "2       Fighting      160.70    80.32     38.75    28.62       12.99   \n",
       "3           Misc      246.17   115.95     75.03    35.03       20.18   \n",
       "4       Platform      504.13   261.24    118.37    96.17       28.29   \n",
       "5         Puzzle      109.42    51.36     24.56    28.12        5.36   \n",
       "6         Racing      329.68   142.58    109.63    40.24       37.23   \n",
       "7   Role-Playing      285.73   113.60     61.07    90.18       20.89   \n",
       "8        Shooter      460.66   268.21    131.66    15.90       44.78   \n",
       "9     Simulation      123.07    46.37     40.70    26.46        9.51   \n",
       "10        Sports      434.95   186.98    150.86    47.01       50.17   \n",
       "11      Strategy       13.16     5.82      2.65     3.96        0.73   \n",
       "\n",
       "    DaysReleased    Year  \n",
       "0      1014285.0  379079  \n",
       "1       118492.0   40081  \n",
       "2       377984.0  116147  \n",
       "3       299830.0  112317  \n",
       "4       770221.0  224172  \n",
       "5       228171.0   66050  \n",
       "6       438724.0  150325  \n",
       "7       466568.0  184601  \n",
       "8       529071.0  224834  \n",
       "9       186676.0   68179  \n",
       "10      555422.0  190414  \n",
       "11       34690.0   12028  "
      ]
     },
     "execution_count": 15,
     "metadata": {},
     "output_type": "execute_result"
    }
   ],
   "source": [
    "groupByGenre = df.groupby([\"Genre\"])\n",
    "dfGroupByGenre = groupByGenre.sum()\n",
    "dfGroupByGenre = dfGroupByGenre.reset_index()\n",
    "\n",
    "dfGroupByGenre"
   ]
  },
  {
   "cell_type": "code",
   "execution_count": 16,
   "metadata": {
    "scrolled": true
   },
   "outputs": [
    {
     "data": {
      "image/png": "[encoded data removed]",
      "text/plain": [
       "<Figure size 1440x360 with 1 Axes>"
      ]
     },
     "metadata": {
      "needs_background": "light"
     },
     "output_type": "display_data"
    }
   ],
   "source": [
    "plt8 = dfGroupByGenre[['NASales','PALSales','JPSales','OtherSales']].plot.bar(stacked = True, figsize = (20,5))\n",
    "plt8.set_xlabel('Genre')\n",
    "plt8.set_title('Sales by Genre')\n",
    "\n",
    "locs, labels = plt.xticks()\n",
    "new_xticks = dfGroupByGenre['Genre']\n",
    "plt.xticks(locs, new_xticks, rotation = 90)\n",
    "\n",
    "plt.show()"
   ]
  },
  {
   "cell_type": "markdown",
   "metadata": {},
   "source": [
    "We could see that Action games is the most popular genre among all, with Platform, Shooter, and Sports closely following. Strategy is the least popular genre on the other hand. One interesting data is that it seems like Japanese players have little interests in Shooter games compared to rest of the players. On the contraty, they have a crush on Role-Playing games."
   ]
  },
  {
   "cell_type": "markdown",
   "metadata": {},
   "source": [
    "### Platform and Sales <a class=\"anchor\" id=\"section_1_9\"></a>"
   ]
  },
  {
   "cell_type": "code",
   "execution_count": 17,
   "metadata": {
    "scrolled": true
   },
   "outputs": [
    {
     "data": {
      "text/html": [
       "<div>\n",
       "<style scoped>\n",
       "    .dataframe tbody tr th:only-of-type {\n",
       "        vertical-align: middle;\n",
       "    }\n",
       "\n",
       "    .dataframe tbody tr th {\n",
       "        vertical-align: top;\n",
       "    }\n",
       "\n",
       "    .dataframe thead th {\n",
       "        text-align: right;\n",
       "    }\n",
       "</style>\n",
       "<table border=\"1\" class=\"dataframe\">\n",
       "  <thead>\n",
       "    <tr style=\"text-align: right;\">\n",
       "      <th></th>\n",
       "      <th>Platform</th>\n",
       "      <th>TotalSales</th>\n",
       "      <th>NASales</th>\n",
       "      <th>PALSales</th>\n",
       "      <th>JPSales</th>\n",
       "      <th>OtherSales</th>\n",
       "    </tr>\n",
       "  </thead>\n",
       "  <tbody>\n",
       "    <tr>\n",
       "      <th>0</th>\n",
       "      <td>2600</td>\n",
       "      <td>1.22</td>\n",
       "      <td>0.27</td>\n",
       "      <td>0.08</td>\n",
       "      <td>0.85</td>\n",
       "      <td>0.02</td>\n",
       "    </tr>\n",
       "    <tr>\n",
       "      <th>1</th>\n",
       "      <td>3DS</td>\n",
       "      <td>109.05</td>\n",
       "      <td>37.35</td>\n",
       "      <td>34.55</td>\n",
       "      <td>30.45</td>\n",
       "      <td>6.64</td>\n",
       "    </tr>\n",
       "    <tr>\n",
       "      <th>2</th>\n",
       "      <td>DC</td>\n",
       "      <td>4.74</td>\n",
       "      <td>2.19</td>\n",
       "      <td>1.08</td>\n",
       "      <td>1.31</td>\n",
       "      <td>0.15</td>\n",
       "    </tr>\n",
       "    <tr>\n",
       "      <th>3</th>\n",
       "      <td>DS</td>\n",
       "      <td>269.48</td>\n",
       "      <td>93.18</td>\n",
       "      <td>86.02</td>\n",
       "      <td>67.65</td>\n",
       "      <td>22.62</td>\n",
       "    </tr>\n",
       "    <tr>\n",
       "      <th>4</th>\n",
       "      <td>GB</td>\n",
       "      <td>142.89</td>\n",
       "      <td>77.93</td>\n",
       "      <td>26.04</td>\n",
       "      <td>33.48</td>\n",
       "      <td>5.43</td>\n",
       "    </tr>\n",
       "  </tbody>\n",
       "</table>\n",
       "</div>"
      ],
      "text/plain": [
       "  Platform  TotalSales  NASales  PALSales  JPSales  OtherSales\n",
       "0     2600        1.22     0.27      0.08     0.85        0.02\n",
       "1      3DS      109.05    37.35     34.55    30.45        6.64\n",
       "2       DC        4.74     2.19      1.08     1.31        0.15\n",
       "3       DS      269.48    93.18     86.02    67.65       22.62\n",
       "4       GB      142.89    77.93     26.04    33.48        5.43"
      ]
     },
     "execution_count": 17,
     "metadata": {},
     "output_type": "execute_result"
    }
   ],
   "source": [
    "groupByPlatform = df.groupby([\"Platform\"])\n",
    "dfGroupByPlatform = groupByPlatform.sum()\n",
    "dfGroupByPlatform = dfGroupByPlatform.reset_index()\n",
    "dfGroupByPlatform = dfGroupByPlatform.drop(columns = ['Year', 'DaysReleased'])\n",
    "\n",
    "dfGroupByPlatform.head()"
   ]
  },
  {
   "cell_type": "code",
   "execution_count": 18,
   "metadata": {},
   "outputs": [
    {
     "data": {
      "image/png": "[encoded data removed]",
      "text/plain": [
       "<Figure size 1440x360 with 1 Axes>"
      ]
     },
     "metadata": {
      "needs_background": "light"
     },
     "output_type": "display_data"
    }
   ],
   "source": [
    "plt9 = dfGroupByPlatform[['NASales','PALSales','JPSales','OtherSales']].plot.bar(stacked = True, figsize = (20,5))\n",
    "plt9.set_xlabel('Platform')\n",
    "plt9.set_title('Sales by Platform')\n",
    "\n",
    "locs, labels = plt.xticks()\n",
    "new_xticks = dfGroupByPlatform['Platform']\n",
    "plt.xticks(locs,new_xticks, rotation = 90)\n",
    "\n",
    "plt.show()"
   ]
  },
  {
   "cell_type": "markdown",
   "metadata": {},
   "source": [
    "PS2 is the most popular platform for top 2000 best-selling video games and PlayStation products obviously dominate the market for now. We could see a big difference between different platforms."
   ]
  },
  {
   "cell_type": "markdown",
   "metadata": {},
   "source": [
    "### Data Analysis <a class=\"anchor\" id=\"chapter3\"></a>"
   ]
  },
  {
   "cell_type": "markdown",
   "metadata": {},
   "source": [
    "#### Linear Regression <a class=\"anchor\" id=\"section_2_2\"></a>"
   ]
  },
  {
   "cell_type": "code",
   "execution_count": 19,
   "metadata": {},
   "outputs": [
    {
     "data": {
      "text/html": [
       "<div>\n",
       "<style scoped>\n",
       "    .dataframe tbody tr th:only-of-type {\n",
       "        vertical-align: middle;\n",
       "    }\n",
       "\n",
       "    .dataframe tbody tr th {\n",
       "        vertical-align: top;\n",
       "    }\n",
       "\n",
       "    .dataframe thead th {\n",
       "        text-align: right;\n",
       "    }\n",
       "</style>\n",
       "<table border=\"1\" class=\"dataframe\">\n",
       "  <thead>\n",
       "    <tr style=\"text-align: right;\">\n",
       "      <th></th>\n",
       "      <th>TotalSales</th>\n",
       "      <th>Action</th>\n",
       "      <th>Adventure</th>\n",
       "      <th>Fighting</th>\n",
       "      <th>Misc</th>\n",
       "      <th>Platform</th>\n",
       "      <th>Puzzle</th>\n",
       "      <th>Racing</th>\n",
       "      <th>Role-Playing</th>\n",
       "      <th>Shooter</th>\n",
       "      <th>Simulation</th>\n",
       "      <th>Sports</th>\n",
       "      <th>Strategy</th>\n",
       "    </tr>\n",
       "  </thead>\n",
       "  <tbody>\n",
       "    <tr>\n",
       "      <th>1</th>\n",
       "      <td>82.65</td>\n",
       "      <td>0</td>\n",
       "      <td>0</td>\n",
       "      <td>0</td>\n",
       "      <td>0</td>\n",
       "      <td>0</td>\n",
       "      <td>0</td>\n",
       "      <td>0</td>\n",
       "      <td>0</td>\n",
       "      <td>0</td>\n",
       "      <td>0</td>\n",
       "      <td>1</td>\n",
       "      <td>0</td>\n",
       "    </tr>\n",
       "    <tr>\n",
       "      <th>2</th>\n",
       "      <td>40.24</td>\n",
       "      <td>0</td>\n",
       "      <td>0</td>\n",
       "      <td>0</td>\n",
       "      <td>0</td>\n",
       "      <td>1</td>\n",
       "      <td>0</td>\n",
       "      <td>0</td>\n",
       "      <td>0</td>\n",
       "      <td>0</td>\n",
       "      <td>0</td>\n",
       "      <td>0</td>\n",
       "      <td>0</td>\n",
       "    </tr>\n",
       "    <tr>\n",
       "      <th>4</th>\n",
       "      <td>35.98</td>\n",
       "      <td>0</td>\n",
       "      <td>0</td>\n",
       "      <td>0</td>\n",
       "      <td>0</td>\n",
       "      <td>0</td>\n",
       "      <td>0</td>\n",
       "      <td>1</td>\n",
       "      <td>0</td>\n",
       "      <td>0</td>\n",
       "      <td>0</td>\n",
       "      <td>0</td>\n",
       "      <td>0</td>\n",
       "    </tr>\n",
       "    <tr>\n",
       "      <th>5</th>\n",
       "      <td>32.90</td>\n",
       "      <td>0</td>\n",
       "      <td>0</td>\n",
       "      <td>0</td>\n",
       "      <td>0</td>\n",
       "      <td>0</td>\n",
       "      <td>0</td>\n",
       "      <td>0</td>\n",
       "      <td>0</td>\n",
       "      <td>0</td>\n",
       "      <td>0</td>\n",
       "      <td>1</td>\n",
       "      <td>0</td>\n",
       "    </tr>\n",
       "    <tr>\n",
       "      <th>6</th>\n",
       "      <td>30.26</td>\n",
       "      <td>0</td>\n",
       "      <td>0</td>\n",
       "      <td>0</td>\n",
       "      <td>0</td>\n",
       "      <td>0</td>\n",
       "      <td>1</td>\n",
       "      <td>0</td>\n",
       "      <td>0</td>\n",
       "      <td>0</td>\n",
       "      <td>0</td>\n",
       "      <td>0</td>\n",
       "      <td>0</td>\n",
       "    </tr>\n",
       "  </tbody>\n",
       "</table>\n",
       "</div>"
      ],
      "text/plain": [
       "   TotalSales  Action  Adventure  Fighting  Misc  Platform  Puzzle  Racing  \\\n",
       "1       82.65       0          0         0     0         0       0       0   \n",
       "2       40.24       0          0         0     0         1       0       0   \n",
       "4       35.98       0          0         0     0         0       0       1   \n",
       "5       32.90       0          0         0     0         0       0       0   \n",
       "6       30.26       0          0         0     0         0       1       0   \n",
       "\n",
       "   Role-Playing  Shooter  Simulation  Sports  Strategy  \n",
       "1             0        0           0       1         0  \n",
       "2             0        0           0       0         0  \n",
       "4             0        0           0       0         0  \n",
       "5             0        0           0       1         0  \n",
       "6             0        0           0       0         0  "
      ]
     },
     "execution_count": 19,
     "metadata": {},
     "output_type": "execute_result"
    }
   ],
   "source": [
    "genreCount = pd.get_dummies(df['Genre'])\n",
    "saleWGenreCount = pd.concat([df['TotalSales'], genreCount],axis = 1)\n",
    "\n",
    "saleWGenreCount.head()"
   ]
  },
  {
   "cell_type": "code",
   "execution_count": 20,
   "metadata": {},
   "outputs": [],
   "source": [
    "X = saleWGenreCount.drop(\"TotalSales\", axis = 1)\n",
    "X = StandardScaler().fit_transform(X)\n",
    "y = df[\"TotalSales\"]\n",
    "\n",
    "X_train, X_test, y_train, y_test = train_test_split(X, y, test_size = 0.33, random_state = 42) # split the dataset"
   ]
  },
  {
   "cell_type": "code",
   "execution_count": 21,
   "metadata": {},
   "outputs": [
    {
     "name": "stdout",
     "output_type": "stream",
     "text": [
      "Negative Mean Squared Error (Linear): -29.987393035313875\n"
     ]
    }
   ],
   "source": [
    "reg = LinearRegression()\n",
    "scores = cross_val_score(reg, X, y, cv = 10, scoring = 'neg_mean_squared_error')\n",
    "\n",
    "print('Negative Mean Squared Error (Linear):', scores.mean())"
   ]
  },
  {
   "cell_type": "markdown",
   "metadata": {},
   "source": [
    "#### Quadratic (Polynomial) Regression <a class=\"anchor\" id=\"section_2_3\"></a>"
   ]
  },
  {
   "cell_type": "code",
   "execution_count": 22,
   "metadata": {},
   "outputs": [
    {
     "name": "stdout",
     "output_type": "stream",
     "text": [
      "Negative Mean Squared Error (Polynomial): -33.500950669108036\n"
     ]
    }
   ],
   "source": [
    "feat = PolynomialFeatures(degree = 2)\n",
    "Xquad = feat.fit_transform(X)\n",
    "reg = LinearRegression()\n",
    "scores = cross_val_score(reg, Xquad, y, cv = 10, scoring = 'neg_mean_squared_error')\n",
    "\n",
    "print('Negative Mean Squared Error (Polynomial):', scores.mean())"
   ]
  },
  {
   "cell_type": "markdown",
   "metadata": {},
   "source": [
    "#### Stochastic Gradient Descent <a class=\"anchor\" id=\"section_2_4\"></a>"
   ]
  },
  {
   "cell_type": "code",
   "execution_count": 23,
   "metadata": {},
   "outputs": [
    {
     "name": "stdout",
     "output_type": "stream",
     "text": [
      "Negative Mean Squared Error (SGD): -27.985200311410598\n"
     ]
    }
   ],
   "source": [
    "reg = SGDRegressor(loss = 'squared_loss')\n",
    "scores = cross_val_score(reg, X, y, cv = 10, scoring = 'neg_mean_squared_error')\n",
    "\n",
    "print('Negative Mean Squared Error (SGD):', scores.mean())"
   ]
  },
  {
   "cell_type": "markdown",
   "metadata": {},
   "source": [
    "We will want to pick the SGD model which result has a higher NMSE of -28.035387326224985 since a higher return value is better than a lower return value, which measures the distance between the model and the data."
   ]
  },
  {
   "cell_type": "code",
   "execution_count": 32,
   "metadata": {},
   "outputs": [
    {
     "name": "stdout",
     "output_type": "stream",
     "text": [
      "Mean Squared Error : 25281.937450866266\n",
      "Mean Absolute Error : 133.09556472881644\n"
     ]
    },
    {
     "data": {
      "image/png": "[encoded data removed]",
      "text/plain": [
       "<Figure size 432x288 with 1 Axes>"
      ]
     },
     "metadata": {
      "needs_background": "light"
     },
     "output_type": "display_data"
    }
   ],
   "source": [
    "clf = SGDRegressor()\n",
    "clf.fit(x_train, y_train)\n",
    "\n",
    "plt.scatter(y_test, clf.predict(x_test))\n",
    "plt.grid()\n",
    "plt.xlabel('Actual y')\n",
    "plt.ylabel('Predicted y')\n",
    "plt.title('Actual y vs Predicted y')\n",
    "\n",
    "print('Mean Squared Error :', mean_squared_error(y_test, clf.predict(x_test)))\n",
    "print('Mean Absolute Error :', mean_absolute_error(y_test, clf.predict(x_test)))\n",
    "\n",
    "plt.show()"
   ]
  },
  {
   "cell_type": "markdown",
   "metadata": {},
   "source": [
    "#### OLS Regression <a class=\"anchor\" id=\"section_2_1\"></a>"
   ]
  },
  {
   "cell_type": "code",
   "execution_count": 25,
   "metadata": {},
   "outputs": [
    {
     "data": {
      "text/html": [
       "<table class=\"simpletable\">\n",
       "<caption>OLS Regression Results</caption>\n",
       "<tr>\n",
       "  <th>Dep. Variable:</th>       <td>TotalSales</td>    <th>  R-squared:         </th> <td>   0.868</td>\n",
       "</tr>\n",
       "<tr>\n",
       "  <th>Model:</th>                   <td>OLS</td>       <th>  Adj. R-squared:    </th> <td>   0.864</td>\n",
       "</tr>\n",
       "<tr>\n",
       "  <th>Method:</th>             <td>Least Squares</td>  <th>  F-statistic:       </th> <td>   210.4</td>\n",
       "</tr>\n",
       "<tr>\n",
       "  <th>Date:</th>             <td>Mon, 21 Dec 2020</td> <th>  Prob (F-statistic):</th> <td>1.27e-15</td>\n",
       "</tr>\n",
       "<tr>\n",
       "  <th>Time:</th>                 <td>02:57:12</td>     <th>  Log-Likelihood:    </th> <td> -158.70</td>\n",
       "</tr>\n",
       "<tr>\n",
       "  <th>No. Observations:</th>      <td>    34</td>      <th>  AIC:               </th> <td>   321.4</td>\n",
       "</tr>\n",
       "<tr>\n",
       "  <th>Df Residuals:</th>          <td>    32</td>      <th>  BIC:               </th> <td>   324.4</td>\n",
       "</tr>\n",
       "<tr>\n",
       "  <th>Df Model:</th>              <td>     1</td>      <th>                     </th>     <td> </td>   \n",
       "</tr>\n",
       "<tr>\n",
       "  <th>Covariance Type:</th>      <td>nonrobust</td>    <th>                     </th>     <td> </td>   \n",
       "</tr>\n",
       "</table>\n",
       "<table class=\"simpletable\">\n",
       "<tr>\n",
       "      <td></td>         <th>coef</th>     <th>std err</th>      <th>t</th>      <th>P>|t|</th>  <th>[0.025</th>    <th>0.975]</th>  \n",
       "</tr>\n",
       "<tr>\n",
       "  <th>Intercept</th> <td>   -0.9565</td> <td>    8.186</td> <td>   -0.117</td> <td> 0.908</td> <td>  -17.631</td> <td>   15.718</td>\n",
       "</tr>\n",
       "<tr>\n",
       "  <th>Game</th>      <td>    0.9511</td> <td>    0.066</td> <td>   14.506</td> <td> 0.000</td> <td>    0.818</td> <td>    1.085</td>\n",
       "</tr>\n",
       "<tr>\n",
       "  <th>Genre</th>     <td>    0.9511</td> <td>    0.066</td> <td>   14.506</td> <td> 0.000</td> <td>    0.818</td> <td>    1.085</td>\n",
       "</tr>\n",
       "<tr>\n",
       "  <th>Platform</th>  <td>    0.9511</td> <td>    0.066</td> <td>   14.506</td> <td> 0.000</td> <td>    0.818</td> <td>    1.085</td>\n",
       "</tr>\n",
       "<tr>\n",
       "  <th>Publisher</th> <td>    0.9511</td> <td>    0.066</td> <td>   14.506</td> <td> 0.000</td> <td>    0.818</td> <td>    1.085</td>\n",
       "</tr>\n",
       "</table>\n",
       "<table class=\"simpletable\">\n",
       "<tr>\n",
       "  <th>Omnibus:</th>       <td>13.466</td> <th>  Durbin-Watson:     </th> <td>   1.426</td>\n",
       "</tr>\n",
       "<tr>\n",
       "  <th>Prob(Omnibus):</th> <td> 0.001</td> <th>  Jarque-Bera (JB):  </th> <td>  13.989</td>\n",
       "</tr>\n",
       "<tr>\n",
       "  <th>Skew:</th>          <td> 1.249</td> <th>  Prob(JB):          </th> <td>0.000917</td>\n",
       "</tr>\n",
       "<tr>\n",
       "  <th>Kurtosis:</th>      <td> 4.907</td> <th>  Cond. No.          </th> <td>     inf</td>\n",
       "</tr>\n",
       "</table><br/><br/>Warnings:<br/>[1] Standard Errors assume that the covariance matrix of the errors is correctly specified.<br/>[2] The smallest eigenvalue is      0. This might indicate that there are<br/>strong multicollinearity problems or that the design matrix is singular."
      ],
      "text/plain": [
       "<class 'statsmodels.iolib.summary.Summary'>\n",
       "\"\"\"\n",
       "                            OLS Regression Results                            \n",
       "==============================================================================\n",
       "Dep. Variable:             TotalSales   R-squared:                       0.868\n",
       "Model:                            OLS   Adj. R-squared:                  0.864\n",
       "Method:                 Least Squares   F-statistic:                     210.4\n",
       "Date:                Mon, 21 Dec 2020   Prob (F-statistic):           1.27e-15\n",
       "Time:                        02:57:12   Log-Likelihood:                -158.70\n",
       "No. Observations:                  34   AIC:                             321.4\n",
       "Df Residuals:                      32   BIC:                             324.4\n",
       "Df Model:                           1                                         \n",
       "Covariance Type:            nonrobust                                         \n",
       "==============================================================================\n",
       "                 coef    std err          t      P>|t|      [0.025      0.975]\n",
       "------------------------------------------------------------------------------\n",
       "Intercept     -0.9565      8.186     -0.117      0.908     -17.631      15.718\n",
       "Game           0.9511      0.066     14.506      0.000       0.818       1.085\n",
       "Genre          0.9511      0.066     14.506      0.000       0.818       1.085\n",
       "Platform       0.9511      0.066     14.506      0.000       0.818       1.085\n",
       "Publisher      0.9511      0.066     14.506      0.000       0.818       1.085\n",
       "==============================================================================\n",
       "Omnibus:                       13.466   Durbin-Watson:                   1.426\n",
       "Prob(Omnibus):                  0.001   Jarque-Bera (JB):               13.989\n",
       "Skew:                           1.249   Prob(JB):                     0.000917\n",
       "Kurtosis:                       4.907   Cond. No.                          inf\n",
       "==============================================================================\n",
       "\n",
       "Warnings:\n",
       "[1] Standard Errors assume that the covariance matrix of the errors is correctly specified.\n",
       "[2] The smallest eigenvalue is      0. This might indicate that there are\n",
       "strong multicollinearity problems or that the design matrix is singular.\n",
       "\"\"\""
      ]
     },
     "execution_count": 25,
     "metadata": {},
     "output_type": "execute_result"
    }
   ],
   "source": [
    "results = smf.ols('TotalSales ~ Game + Genre + Platform + Publisher', data = countByYear).fit()\n",
    "results.summary()"
   ]
  },
  {
   "cell_type": "markdown",
   "metadata": {},
   "source": [
    "The p-value, 1.27e-15, is less than 0.05, which indicates strong evidence against the null hypothesis, as there is less than a 5% probability the null is correct. Therefore, there is a relationship between number of game released and the global sales of video games. And on average, the global sales of games increase by 0.9511m for every released game."
   ]
  },
  {
   "cell_type": "code",
   "execution_count": 26,
   "metadata": {},
   "outputs": [
    {
     "data": {
      "text/html": [
       "<table class=\"simpletable\">\n",
       "<caption>OLS Regression Results</caption>\n",
       "<tr>\n",
       "  <th>Dep. Variable:</th>       <td>TotalSales</td>    <th>  R-squared:         </th> <td>   0.000</td>\n",
       "</tr>\n",
       "<tr>\n",
       "  <th>Model:</th>                   <td>OLS</td>       <th>  Adj. R-squared:    </th> <td>  -0.001</td>\n",
       "</tr>\n",
       "<tr>\n",
       "  <th>Method:</th>             <td>Least Squares</td>  <th>  F-statistic:       </th> <td>  0.4280</td>\n",
       "</tr>\n",
       "<tr>\n",
       "  <th>Date:</th>             <td>Mon, 21 Dec 2020</td> <th>  Prob (F-statistic):</th>  <td> 0.513</td> \n",
       "</tr>\n",
       "<tr>\n",
       "  <th>Time:</th>                 <td>02:57:12</td>     <th>  Log-Likelihood:    </th> <td> -2663.4</td>\n",
       "</tr>\n",
       "<tr>\n",
       "  <th>No. Observations:</th>      <td>   882</td>      <th>  AIC:               </th> <td>   5331.</td>\n",
       "</tr>\n",
       "<tr>\n",
       "  <th>Df Residuals:</th>          <td>   880</td>      <th>  BIC:               </th> <td>   5340.</td>\n",
       "</tr>\n",
       "<tr>\n",
       "  <th>Df Model:</th>              <td>     1</td>      <th>                     </th>     <td> </td>   \n",
       "</tr>\n",
       "<tr>\n",
       "  <th>Covariance Type:</th>      <td>nonrobust</td>    <th>                     </th>     <td> </td>   \n",
       "</tr>\n",
       "</table>\n",
       "<table class=\"simpletable\">\n",
       "<tr>\n",
       "        <td></td>          <th>coef</th>     <th>std err</th>      <th>t</th>      <th>P>|t|</th>  <th>[0.025</th>    <th>0.975]</th>  \n",
       "</tr>\n",
       "<tr>\n",
       "  <th>Intercept</th>    <td>    3.5316</td> <td>    0.397</td> <td>    8.892</td> <td> 0.000</td> <td>    2.752</td> <td>    4.311</td>\n",
       "</tr>\n",
       "<tr>\n",
       "  <th>DaysReleased</th> <td> 4.141e-05</td> <td> 6.33e-05</td> <td>    0.654</td> <td> 0.513</td> <td>-8.28e-05</td> <td>    0.000</td>\n",
       "</tr>\n",
       "</table>\n",
       "<table class=\"simpletable\">\n",
       "<tr>\n",
       "  <th>Omnibus:</th>       <td>1184.666</td> <th>  Durbin-Watson:     </th>  <td>   0.088</td> \n",
       "</tr>\n",
       "<tr>\n",
       "  <th>Prob(Omnibus):</th>  <td> 0.000</td>  <th>  Jarque-Bera (JB):  </th> <td>259262.847</td>\n",
       "</tr>\n",
       "<tr>\n",
       "  <th>Skew:</th>           <td> 7.074</td>  <th>  Prob(JB):          </th>  <td>    0.00</td> \n",
       "</tr>\n",
       "<tr>\n",
       "  <th>Kurtosis:</th>       <td>85.793</td>  <th>  Cond. No.          </th>  <td>1.49e+04</td> \n",
       "</tr>\n",
       "</table><br/><br/>Warnings:<br/>[1] Standard Errors assume that the covariance matrix of the errors is correctly specified.<br/>[2] The condition number is large, 1.49e+04. This might indicate that there are<br/>strong multicollinearity or other numerical problems."
      ],
      "text/plain": [
       "<class 'statsmodels.iolib.summary.Summary'>\n",
       "\"\"\"\n",
       "                            OLS Regression Results                            \n",
       "==============================================================================\n",
       "Dep. Variable:             TotalSales   R-squared:                       0.000\n",
       "Model:                            OLS   Adj. R-squared:                 -0.001\n",
       "Method:                 Least Squares   F-statistic:                    0.4280\n",
       "Date:                Mon, 21 Dec 2020   Prob (F-statistic):              0.513\n",
       "Time:                        02:57:12   Log-Likelihood:                -2663.4\n",
       "No. Observations:                 882   AIC:                             5331.\n",
       "Df Residuals:                     880   BIC:                             5340.\n",
       "Df Model:                           1                                         \n",
       "Covariance Type:            nonrobust                                         \n",
       "================================================================================\n",
       "                   coef    std err          t      P>|t|      [0.025      0.975]\n",
       "--------------------------------------------------------------------------------\n",
       "Intercept        3.5316      0.397      8.892      0.000       2.752       4.311\n",
       "DaysReleased  4.141e-05   6.33e-05      0.654      0.513   -8.28e-05       0.000\n",
       "==============================================================================\n",
       "Omnibus:                     1184.666   Durbin-Watson:                   0.088\n",
       "Prob(Omnibus):                  0.000   Jarque-Bera (JB):           259262.847\n",
       "Skew:                           7.074   Prob(JB):                         0.00\n",
       "Kurtosis:                      85.793   Cond. No.                     1.49e+04\n",
       "==============================================================================\n",
       "\n",
       "Warnings:\n",
       "[1] Standard Errors assume that the covariance matrix of the errors is correctly specified.\n",
       "[2] The condition number is large, 1.49e+04. This might indicate that there are\n",
       "strong multicollinearity or other numerical problems.\n",
       "\"\"\""
      ]
     },
     "execution_count": 26,
     "metadata": {},
     "output_type": "execute_result"
    }
   ],
   "source": [
    "results = smf.ols('TotalSales ~ DaysReleased', data = df).fit()\n",
    "results.summary()"
   ]
  },
  {
   "cell_type": "markdown",
   "metadata": {},
   "source": [
    "We had guessed that there is no relationship between days released and sales in the previous section, and now the p-value backs our guess. The p-value here is 0.513, which could prove the null hypothesis."
   ]
  },
  {
   "cell_type": "code",
   "execution_count": 27,
   "metadata": {},
   "outputs": [
    {
     "name": "stdout",
     "output_type": "stream",
     "text": [
      "135.1295179356321\n",
      "0.007105190251113336\n"
     ]
    },
    {
     "data": {
      "text/html": [
       "<table class=\"simpletable\">\n",
       "<caption>OLS Regression Results</caption>\n",
       "<tr>\n",
       "  <th>Dep. Variable:</th>            <td>y</td>        <th>  R-squared (uncentered):</th>      <td>   0.584</td> \n",
       "</tr>\n",
       "<tr>\n",
       "  <th>Model:</th>                   <td>OLS</td>       <th>  Adj. R-squared (uncentered):</th> <td>   0.583</td> \n",
       "</tr>\n",
       "<tr>\n",
       "  <th>Method:</th>             <td>Least Squares</td>  <th>  F-statistic:       </th>          <td>   411.2</td> \n",
       "</tr>\n",
       "<tr>\n",
       "  <th>Date:</th>             <td>Mon, 21 Dec 2020</td> <th>  Prob (F-statistic):</th>          <td>7.64e-167</td>\n",
       "</tr>\n",
       "<tr>\n",
       "  <th>Time:</th>                 <td>02:57:12</td>     <th>  Log-Likelihood:    </th>          <td> -5525.7</td> \n",
       "</tr>\n",
       "<tr>\n",
       "  <th>No. Observations:</th>      <td>   882</td>      <th>  AIC:               </th>          <td>1.106e+04</td>\n",
       "</tr>\n",
       "<tr>\n",
       "  <th>Df Residuals:</th>          <td>   879</td>      <th>  BIC:               </th>          <td>1.107e+04</td>\n",
       "</tr>\n",
       "<tr>\n",
       "  <th>Df Model:</th>              <td>     3</td>      <th>                     </th>              <td> </td>    \n",
       "</tr>\n",
       "<tr>\n",
       "  <th>Covariance Type:</th>      <td>nonrobust</td>    <th>                     </th>              <td> </td>    \n",
       "</tr>\n",
       "</table>\n",
       "<table class=\"simpletable\">\n",
       "<tr>\n",
       "   <td></td>     <th>coef</th>     <th>std err</th>      <th>t</th>      <th>P>|t|</th>  <th>[0.025</th>    <th>0.975]</th>  \n",
       "</tr>\n",
       "<tr>\n",
       "  <th>x1</th> <td>    4.2702</td> <td>    0.570</td> <td>    7.488</td> <td> 0.000</td> <td>    3.151</td> <td>    5.390</td>\n",
       "</tr>\n",
       "<tr>\n",
       "  <th>x2</th> <td>    5.6047</td> <td>    1.140</td> <td>    4.918</td> <td> 0.000</td> <td>    3.368</td> <td>    7.842</td>\n",
       "</tr>\n",
       "<tr>\n",
       "  <th>x3</th> <td>    1.9247</td> <td>    0.208</td> <td>    9.242</td> <td> 0.000</td> <td>    1.516</td> <td>    2.333</td>\n",
       "</tr>\n",
       "</table>\n",
       "<table class=\"simpletable\">\n",
       "<tr>\n",
       "  <th>Omnibus:</th>       <td>78.179</td> <th>  Durbin-Watson:     </th> <td>   0.191</td>\n",
       "</tr>\n",
       "<tr>\n",
       "  <th>Prob(Omnibus):</th> <td> 0.000</td> <th>  Jarque-Bera (JB):  </th> <td>  55.329</td>\n",
       "</tr>\n",
       "<tr>\n",
       "  <th>Skew:</th>          <td> 0.504</td> <th>  Prob(JB):          </th> <td>9.67e-13</td>\n",
       "</tr>\n",
       "<tr>\n",
       "  <th>Kurtosis:</th>      <td> 2.301</td> <th>  Cond. No.          </th> <td>    10.6</td>\n",
       "</tr>\n",
       "</table><br/><br/>Warnings:<br/>[1] Standard Errors assume that the covariance matrix of the errors is correctly specified."
      ],
      "text/plain": [
       "<class 'statsmodels.iolib.summary.Summary'>\n",
       "\"\"\"\n",
       "                                 OLS Regression Results                                \n",
       "=======================================================================================\n",
       "Dep. Variable:                      y   R-squared (uncentered):                   0.584\n",
       "Model:                            OLS   Adj. R-squared (uncentered):              0.583\n",
       "Method:                 Least Squares   F-statistic:                              411.2\n",
       "Date:                Mon, 21 Dec 2020   Prob (F-statistic):                   7.64e-167\n",
       "Time:                        02:57:12   Log-Likelihood:                         -5525.7\n",
       "No. Observations:                 882   AIC:                                  1.106e+04\n",
       "Df Residuals:                     879   BIC:                                  1.107e+04\n",
       "Df Model:                           3                                                  \n",
       "Covariance Type:            nonrobust                                                  \n",
       "==============================================================================\n",
       "                 coef    std err          t      P>|t|      [0.025      0.975]\n",
       "------------------------------------------------------------------------------\n",
       "x1             4.2702      0.570      7.488      0.000       3.151       5.390\n",
       "x2             5.6047      1.140      4.918      0.000       3.368       7.842\n",
       "x3             1.9247      0.208      9.242      0.000       1.516       2.333\n",
       "==============================================================================\n",
       "Omnibus:                       78.179   Durbin-Watson:                   0.191\n",
       "Prob(Omnibus):                  0.000   Jarque-Bera (JB):               55.329\n",
       "Skew:                           0.504   Prob(JB):                     9.67e-13\n",
       "Kurtosis:                       2.301   Cond. No.                         10.6\n",
       "==============================================================================\n",
       "\n",
       "Warnings:\n",
       "[1] Standard Errors assume that the covariance matrix of the errors is correctly specified.\n",
       "\"\"\""
      ]
     },
     "execution_count": 27,
     "metadata": {},
     "output_type": "execute_result"
    }
   ],
   "source": [
    "le = LabelEncoder()\n",
    "ledf = df.apply(LabelEncoder().fit_transform)\n",
    "\n",
    "X = ledf[['Platform', 'Genre', 'Publisher']].values\n",
    "y = ledf[['TotalSales']].values\n",
    "\n",
    "x_train, x_test, y_train, y_test = train_test_split(X, y, test_size = 0.1)\n",
    "\n",
    "reg = LinearRegression()\n",
    "reg.fit(x_train, y_train)\n",
    "\n",
    "preds = reg.predict(x_test)\n",
    "test_set_rmse = np.sqrt(mean_squared_error(y_test, preds))\n",
    "test_set_r2 = r2_score(y_test, preds)\n",
    "\n",
    "print(test_set_rmse)\n",
    "print(test_set_r2)\n",
    "\n",
    "result = sm.OLS(y, X).fit()\n",
    "result.summary()"
   ]
  },
  {
   "cell_type": "code",
   "execution_count": 28,
   "metadata": {},
   "outputs": [
    {
     "name": "stdout",
     "output_type": "stream",
     "text": [
      "-265.17020852982967\n"
     ]
    }
   ],
   "source": [
    "accuracy = cross_val_score(reg, X, y, cv = 10)\n",
    "print(accuracy.mean())"
   ]
  },
  {
   "cell_type": "markdown",
   "metadata": {},
   "source": [
    "It seems like that the accuracy is not acceptable and the sales is not related with platform, genre, or publisher."
   ]
  },
  {
   "cell_type": "markdown",
   "metadata": {},
   "source": [
    "### Conclusion <a class=\"anchor\" id=\"chapter4\"></a>"
   ]
  },
  {
   "cell_type": "markdown",
   "metadata": {},
   "source": [
    "This analysis reveals some surprising facts. We could see that there is not a very strong relationship between total sales and genre, platform, and publisher. While it might seem obvious that the game that released early contributes more to total sales, we do not find an apparent connection between them.\n",
    "\n",
    "However, it also worth mention that Nintendo almost monopolized the market, whose sales greatly exceed the sales of others."
   ]
  },
  {
   "cell_type": "markdown",
   "metadata": {},
   "source": [
    "### Other links <a class=\"anchor\" id=\"chapter5\"></a>"
   ]
  },
  {
   "cell_type": "markdown",
   "metadata": {},
   "source": [
    "Data of games avaliable on steam: https://steamdb.info/"
   ]
  }
 ],
 "metadata": {
  "kernelspec": {
   "display_name": "Python 3",
   "language": "python",
   "name": "python3"
  },
  "language_info": {
   "codemirror_mode": {
    "name": "ipython",
    "version": 3
   },
   "file_extension": ".py",
   "mimetype": "text/x-python",
   "name": "python",
   "nbconvert_exporter": "python",
   "pygments_lexer": "ipython3",
   "version": "3.8.5"
  }
 },
 "nbformat": 4,
 "nbformat_minor": 4
}
